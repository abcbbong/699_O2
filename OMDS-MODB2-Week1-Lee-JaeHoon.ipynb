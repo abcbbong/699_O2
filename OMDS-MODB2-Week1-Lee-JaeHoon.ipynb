{
 "cells": [
  {
   "cell_type": "code",
   "execution_count": null,
   "id": "e0392320-e3f8-4e08-a7f2-373d91054cae",
   "metadata": {
    "jupyter": {
     "source_hidden": true
    }
   },
   "outputs": [],
   "source": []
  },
  {
   "cell_type": "markdown",
   "id": "48a74b5e-5180-4544-86a0-b047a877eb8e",
   "metadata": {},
   "source": [
    "# Week 1 - Preprocessing\n",
    "\n",
    "## Please run the cells of the notebook as you get to them while reading"
   ]
  },
  {
   "cell_type": "code",
   "execution_count": 1,
   "id": "5c24f12c-b364-40f0-b295-7c1ba88be680",
   "metadata": {},
   "outputs": [],
   "source": [
    "import pandas as pd\n",
    "import numpy as np\n",
    "from datetime import datetime, timedelta"
   ]
  },
  {
   "cell_type": "markdown",
   "id": "23c513ee-9d2b-408f-bbcd-33fa70a299e8",
   "metadata": {},
   "source": [
    "# 1. Lesson on how to search for Python commands\n",
    "\n",
    "Let's consider a few possible ways to learn about Python programming.  Let's suppose you want to learn how to produce a short summary of the information in your DataFrame.\n",
    "\n",
    "1. Your **instructor** could provide the information.\n",
    "\n",
    "You could be provided with a lesson about functions like info() and describe().  If you have a pandas DataFrame called df, then you can summarize its contents using df.info() or df.describe().  df.info() provides a list of column names with their counts and data types.  df.describe() will provide information such as the mean, min, max, standard deviation, and quantiles.  Thus:"
   ]
  },
  {
   "cell_type": "code",
   "execution_count": 2,
   "id": "33d97ef1-f92d-45a1-89e6-efea4d42ba75",
   "metadata": {},
   "outputs": [
    {
     "data": {
      "text/html": [
       "<div>\n",
       "<style scoped>\n",
       "    .dataframe tbody tr th:only-of-type {\n",
       "        vertical-align: middle;\n",
       "    }\n",
       "\n",
       "    .dataframe tbody tr th {\n",
       "        vertical-align: top;\n",
       "    }\n",
       "\n",
       "    .dataframe thead th {\n",
       "        text-align: right;\n",
       "    }\n",
       "</style>\n",
       "<table border=\"1\" class=\"dataframe\">\n",
       "  <thead>\n",
       "    <tr style=\"text-align: right;\">\n",
       "      <th></th>\n",
       "      <th>A</th>\n",
       "      <th>B</th>\n",
       "    </tr>\n",
       "  </thead>\n",
       "  <tbody>\n",
       "    <tr>\n",
       "      <th>count</th>\n",
       "      <td>4.000000</td>\n",
       "      <td>4.000000</td>\n",
       "    </tr>\n",
       "    <tr>\n",
       "      <th>mean</th>\n",
       "      <td>2.500000</td>\n",
       "      <td>5.500000</td>\n",
       "    </tr>\n",
       "    <tr>\n",
       "      <th>std</th>\n",
       "      <td>1.290994</td>\n",
       "      <td>1.290994</td>\n",
       "    </tr>\n",
       "    <tr>\n",
       "      <th>min</th>\n",
       "      <td>1.000000</td>\n",
       "      <td>4.000000</td>\n",
       "    </tr>\n",
       "    <tr>\n",
       "      <th>25%</th>\n",
       "      <td>1.750000</td>\n",
       "      <td>4.750000</td>\n",
       "    </tr>\n",
       "    <tr>\n",
       "      <th>50%</th>\n",
       "      <td>2.500000</td>\n",
       "      <td>5.500000</td>\n",
       "    </tr>\n",
       "    <tr>\n",
       "      <th>75%</th>\n",
       "      <td>3.250000</td>\n",
       "      <td>6.250000</td>\n",
       "    </tr>\n",
       "    <tr>\n",
       "      <th>max</th>\n",
       "      <td>4.000000</td>\n",
       "      <td>7.000000</td>\n",
       "    </tr>\n",
       "  </tbody>\n",
       "</table>\n",
       "</div>"
      ],
      "text/plain": [
       "              A         B\n",
       "count  4.000000  4.000000\n",
       "mean   2.500000  5.500000\n",
       "std    1.290994  1.290994\n",
       "min    1.000000  4.000000\n",
       "25%    1.750000  4.750000\n",
       "50%    2.500000  5.500000\n",
       "75%    3.250000  6.250000\n",
       "max    4.000000  7.000000"
      ]
     },
     "execution_count": 2,
     "metadata": {},
     "output_type": "execute_result"
    }
   ],
   "source": [
    "df = pd.DataFrame([[1, 4], [2, 5], [3, 6], [4, 7]], columns = ['A', 'B'])\n",
    "df.describe()"
   ]
  },
  {
   "cell_type": "markdown",
   "id": "6541ee48-fb69-40d5-8b39-8f1b02918a9e",
   "metadata": {},
   "source": [
    "In this describe() result, we see that the two columns A and B each have four elements.  The means and other statistics are shown.\n",
    "\n",
    "2. You could look up the information on **Google**.\n",
    "\n",
    "If I Google the question \"how do I briefly summarize the contents of a dataframe using Python,\" I receive the following link (among others), which discusses the describe() command mentioned above:\n",
    "\n",
    "https://www.w3schools.com/python/pandas/ref_df_describe.asp\n",
    "\n",
    "It also provide the complete usage information:\n",
    "\n",
    "dataframe.describe(percentiles, include, exclude, datetime_is_numeric)\n",
    "\n",
    "It explains that \"percentiles\" is set by default to [0.25, 0.5, 0.75] but we could change that.  Let's try it!  Since there are three intervals here rather than four, it might be more meaningful to ask about a 33rd and 67th percentile rather than 25, 50, and 75.  We can use 1/3 for 0.33 and 2/3 for 0.67 to get the exact percentile values."
   ]
  },
  {
   "cell_type": "code",
   "execution_count": 3,
   "id": "3aea76dd-f492-4bbe-9431-8e1a41cf0db9",
   "metadata": {},
   "outputs": [
    {
     "data": {
      "text/html": [
       "<div>\n",
       "<style scoped>\n",
       "    .dataframe tbody tr th:only-of-type {\n",
       "        vertical-align: middle;\n",
       "    }\n",
       "\n",
       "    .dataframe tbody tr th {\n",
       "        vertical-align: top;\n",
       "    }\n",
       "\n",
       "    .dataframe thead th {\n",
       "        text-align: right;\n",
       "    }\n",
       "</style>\n",
       "<table border=\"1\" class=\"dataframe\">\n",
       "  <thead>\n",
       "    <tr style=\"text-align: right;\">\n",
       "      <th></th>\n",
       "      <th>A</th>\n",
       "      <th>B</th>\n",
       "    </tr>\n",
       "  </thead>\n",
       "  <tbody>\n",
       "    <tr>\n",
       "      <th>count</th>\n",
       "      <td>4.000000</td>\n",
       "      <td>4.000000</td>\n",
       "    </tr>\n",
       "    <tr>\n",
       "      <th>mean</th>\n",
       "      <td>2.500000</td>\n",
       "      <td>5.500000</td>\n",
       "    </tr>\n",
       "    <tr>\n",
       "      <th>std</th>\n",
       "      <td>1.290994</td>\n",
       "      <td>1.290994</td>\n",
       "    </tr>\n",
       "    <tr>\n",
       "      <th>min</th>\n",
       "      <td>1.000000</td>\n",
       "      <td>4.000000</td>\n",
       "    </tr>\n",
       "    <tr>\n",
       "      <th>33.3%</th>\n",
       "      <td>2.000000</td>\n",
       "      <td>5.000000</td>\n",
       "    </tr>\n",
       "    <tr>\n",
       "      <th>50%</th>\n",
       "      <td>2.500000</td>\n",
       "      <td>5.500000</td>\n",
       "    </tr>\n",
       "    <tr>\n",
       "      <th>66.7%</th>\n",
       "      <td>3.000000</td>\n",
       "      <td>6.000000</td>\n",
       "    </tr>\n",
       "    <tr>\n",
       "      <th>max</th>\n",
       "      <td>4.000000</td>\n",
       "      <td>7.000000</td>\n",
       "    </tr>\n",
       "  </tbody>\n",
       "</table>\n",
       "</div>"
      ],
      "text/plain": [
       "              A         B\n",
       "count  4.000000  4.000000\n",
       "mean   2.500000  5.500000\n",
       "std    1.290994  1.290994\n",
       "min    1.000000  4.000000\n",
       "33.3%  2.000000  5.000000\n",
       "50%    2.500000  5.500000\n",
       "66.7%  3.000000  6.000000\n",
       "max    4.000000  7.000000"
      ]
     },
     "execution_count": 3,
     "metadata": {},
     "output_type": "execute_result"
    }
   ],
   "source": [
    "df = pd.DataFrame([[1, 4], [2, 5], [3, 6], [4, 7]], columns = ['A', 'B'])\n",
    "df.describe(percentiles = [1/3, 2/3])"
   ]
  },
  {
   "cell_type": "markdown",
   "id": "6cd06ce3-edf9-4786-982d-5650fc22ca58",
   "metadata": {},
   "source": [
    "Apparently, the 50% value (the median) stays even though we did not specifically request it.\n",
    "\n",
    "3. You could look up the official **documentation**.\n",
    "\n",
    "Now that we know we want the pandas describe() function, try Googling: pandas documentation describe.\n",
    "\n",
    "Here is the general documentation page for pandas:\n",
    "\n",
    "https://pandas.pydata.org/docs/index.html\n",
    "\n",
    "Here is the specific page for the describe() function:\n",
    "\n",
    "https://pandas.pydata.org/docs/reference/api/pandas.DataFrame.describe.html\n",
    "\n",
    "When I look at this, it appears to be showing the most recent (currently 2.2) version of pandas; this is shown in the upper right corner.\n",
    "\n",
    "4. You could also ask **ChatGPT**.\n",
    "\n",
    "Let's try it.  ChatGPT, \"how do I briefly summarize the contents of a dataframe using Python\"\n",
    "\n",
    "When I do this, ChatGPT mentions describe() among other options, but does not go into detail.  However, I could ask it.  ChatGPT, \"tell me more about describe() in Python for summarizing dataframes.\"\n",
    "\n",
    "Then, I get a good explanation of describe(), although it does not mention the percentiles option.  One advantage of using Google or the documentation in addition of ChatGPT is that these sources may provide interesting information that does not directly answer our question.  Thus, we might not have known about the various arguments, such as percentiles, if we only used ChatGPT.  A second issue is that ChatGPT sometimes hallucinates (it makes up information).  In general, by examining multiple sources - Google, documentation, and ChatGPT - we can get more information."
   ]
  },
  {
   "cell_type": "markdown",
   "id": "1cede07d-03a8-4c36-b5ca-67619bbfd365",
   "metadata": {},
   "source": [
    "# 2. Weekly graph question"
   ]
  },
  {
   "cell_type": "markdown",
   "id": "4a71d462-12df-4b94-b34f-4d43e4d289d7",
   "metadata": {},
   "source": [
    "In Storytelling With Data, on page 1: examine the pie chart graph in the upper left corner of the graphs.  Please write a short explanation of the pros and cons of this graph.  What do you think of the choice of pie chart as a format?  The color scheme?  The legend?  The title?  How would you draw it differently if you were creating this graph?"
   ]
  },
  {
   "attachments": {
    "image.png": {
     "image/png": "[encoded data removed]"
    }
   },
   "cell_type": "markdown",
   "id": "71319fa8",
   "metadata": {},
   "source": [
    "### An analysis of the \"Survey Results\" pie chart\n",
    "\n",
    "![image.png](attachment:image.png)\n",
    "\n",
    "**Pros of the Graph (Limited):**\n",
    "\n",
    "1. Part-to-Whole Visualization: The primary perceived advantage of a pie chart is its ability to display part-to-whole relationships. It attempts to show how different categories (sentiments in this case) contribute to a total (100% of survey responses). This can be intuitive for quickly grasping relative proportions, such as visualizing market share or simple percentage breakdowns, especially when the number of categories is very small and distinct as is the case in this chart.\n",
    "\n",
    "2. Familiarity: Pie charts are a widely recognized format, meaning many audiences can understand the basic concept of proportional representation without extensive explanation.\n",
    "\n",
    "**Cons of the Graph and Areas for Improvement:**\n",
    "\n",
    "1. Unclear Title: The current title, \"Survey Results,\" is too generic. It fails to provide essential context regarding the survey's topic, target audience, or timeframe. This ambiguity makes it difficult for viewers to grasp the chart's significance and relevance without additional explanation.\n",
    "\n",
    "2. Poor Chart Choice (Pie Chart): Pie charts are generally discouraged in data storytelling because humans struggle to accurately compare angles or slice areas. This makes it challenging to discern precise differences between categories, especially when proportions are similar.\n",
    "With five categories, the chart is already approaching a level of complexity that diminishes clarity. A horizontal bar chart would be a more effective choice, allowing for straightforward visual comparison of category magnitudes through bar lengths.\n",
    "\n",
    "3. Ineffective Color Scheme: The colors used lack intuitive semantic meaning related to the sentiments expressed (e.g., using green for positive and red/orange for negative).\n",
    "There is no cohesive color progression (e.g., varying shades of a single color or a diverging palette) to represent the spectrum of sentiments from \"Bored\" to \"Excited,\" which hinders quick interpretation.\n",
    "\n",
    "4. Legend Inefficiency: Requiring viewers to match colors between the pie slices and a separate legend increases cognitive load. Directly labeling the categories and their percentages on the chart (or on the bars, in the case of a bar chart) is generally more effective.\n",
    "\n",
    "**Recommended Improvements for Better Storytelling:**\n",
    "\n",
    "1. Title: Revise to be specific and contextual (e.g., \"Student Sentiment: Post-Workshop Feedback on Science Program\").\n",
    "\n",
    "2. Chart Type: Replace the pie chart with a horizontal bar chart. This will facilitate easier and more accurate comparisons between sentiment categories.\n",
    "\n",
    "3. Color Strategy: Implement a logical and semantic color scheme. For instance, use shades of green for positive responses (\"Excited,\" \"Kind of interested\"), a neutral color like grey for \"OK,\" and shades of orange or red for negative responses (\"Not great,\" \"Bored\").\n",
    "\n",
    "4. Labeling: Utilize direct labels for categories and percentages on the bars of the new chart, eliminating the need for a separate legend and improving readability.\n"
   ]
  },
  {
   "cell_type": "markdown",
   "id": "52a54048-d621-47b9-aa65-4b46d9c3bb4c",
   "metadata": {},
   "source": [
    "# 3. Homework - Bank Customers\n",
    "\n",
    "I will begin by creating a file for you to analyze.  I will show you all of the steps I used to create it.  Please run this code in order to create and save a file about bank customers.\n",
    "\n",
    "### The numbered problems are for you to solve."
   ]
  },
  {
   "cell_type": "code",
   "execution_count": 4,
   "id": "2950b5f1-9ab8-452f-b9d7-31ce82bbf698",
   "metadata": {},
   "outputs": [],
   "source": [
    "num_customers = 100\n",
    "np.random.seed(0)"
   ]
  },
  {
   "cell_type": "code",
   "execution_count": 5,
   "id": "95561d16-3aac-4537-841a-835272775080",
   "metadata": {},
   "outputs": [],
   "source": [
    "df_bank = pd.DataFrame(columns = [\"CustomerID\"])"
   ]
  },
  {
   "cell_type": "code",
   "execution_count": 6,
   "id": "3e84ff91-47c6-4788-b56b-1d63a2b06a33",
   "metadata": {},
   "outputs": [],
   "source": [
    "df_bank[\"CustomerID\"] = [str(x) for x in np.arange(num_customers)]"
   ]
  },
  {
   "cell_type": "code",
   "execution_count": 7,
   "id": "5983f3fb-8341-4bb0-92be-850dd712c853",
   "metadata": {},
   "outputs": [],
   "source": [
    "start = datetime(1950, 1, 1)\n",
    "end = datetime(2024, 1, 1)\n",
    "numdays = (end - start).days\n",
    "random_days = np.random.randint(0, numdays, size = num_customers)\n",
    "df_bank[\"BirthDate\"] = start + pd.to_timedelta(random_days, unit='D')\n",
    "df_bank[\"BirthDate\"] = df_bank[\"BirthDate\"].dt.strftime('%Y-%m-%d')"
   ]
  },
  {
   "cell_type": "code",
   "execution_count": 8,
   "id": "64adeb78-6b2c-46df-a4f0-8aee5fa75f83",
   "metadata": {},
   "outputs": [],
   "source": [
    "def make_ssn_string(num):\n",
    "    ssn_str = f'{num:09}'\n",
    "    return ssn_str[0:3] + \"-\" + ssn_str[3:5] + \"-\" + ssn_str[5:9]\n",
    "ssn_vector_func = np.vectorize(make_ssn_string)\n",
    "df_bank[\"SSN\"] = ssn_vector_func(np.random.randint(0, 999999999, size = num_customers))"
   ]
  },
  {
   "cell_type": "code",
   "execution_count": 9,
   "id": "0a8e00bb-2f97-4e11-a95f-138baf44206e",
   "metadata": {},
   "outputs": [],
   "source": [
    "df_bank[\"AccountID\"] = np.random.randint(0, num_customers, size = num_customers)"
   ]
  },
  {
   "cell_type": "code",
   "execution_count": 10,
   "id": "bc41db6c-9e4a-4efc-af0d-9f921bb77ec7",
   "metadata": {},
   "outputs": [],
   "source": [
    "random_days = np.random.randint(0, 365 * 80, size = num_customers)\n",
    "df_bank[\"AccountOpened\"] = (pd.to_datetime(df_bank[\"BirthDate\"]) + pd.to_timedelta(random_days, unit='D')).dt.strftime('%Y-%m-%d')"
   ]
  },
  {
   "cell_type": "code",
   "execution_count": 11,
   "id": "cd2ddf02-7ef2-485a-8d1a-1049b30630dd",
   "metadata": {},
   "outputs": [],
   "source": [
    "df_bank.loc[0, \"BirthDate\"] = \"1980\"\n",
    "df_bank.loc[1, \"BirthDate\"] = \"no date\""
   ]
  },
  {
   "cell_type": "code",
   "execution_count": 12,
   "id": "e5e52d8f-10b5-433f-bcfa-9d50232041e0",
   "metadata": {},
   "outputs": [],
   "source": [
    "df_bank.loc[2, \"AccountID\"] = np.nan"
   ]
  },
  {
   "cell_type": "code",
   "execution_count": 13,
   "id": "bdb0d5e7-1bcb-48f0-ab70-c7c3d4b8bfce",
   "metadata": {},
   "outputs": [],
   "source": [
    "df_bank[\"AccountType\"] = np.random.choice([\"checking\", \"savings\", \"cd\"], size = num_customers)"
   ]
  },
  {
   "cell_type": "markdown",
   "id": "314a2bef-d599-4599-b555-7a01c2cd3fb3",
   "metadata": {},
   "source": [
    "Load the bank_customers.csv file.  (There is no practical reason to save it, then load it - we're just demonstrating how this would be done.)\n",
    "I am calling the loaded df by a new name, df_bank_loaded, to make clear why it's not the same variable as the old df.  Of course, in actuality the two contain the exact same data!  But it's good to get in the habit of naming things carefully."
   ]
  },
  {
   "cell_type": "code",
   "execution_count": 14,
   "id": "15dea7e7-619d-4d3f-aa72-712f3da7d384",
   "metadata": {},
   "outputs": [],
   "source": [
    "df_bank.loc[num_customers - 1] = df.loc[0]\n",
    "df_bank.to_csv(\"bank_customers.csv\", index=False)"
   ]
  },
  {
   "cell_type": "code",
   "execution_count": 15,
   "id": "faf79336-ba67-446e-8220-e77534c4c949",
   "metadata": {},
   "outputs": [],
   "source": [
    "df_bank_loaded = pd.read_csv(\"bank_customers.csv\")"
   ]
  },
  {
   "cell_type": "markdown",
   "id": "380145bb-e051-418d-b3d2-ad032cab375b",
   "metadata": {},
   "source": [
    "1. Use describe() and info() to analyze the data.   Also, look at the first few rows."
   ]
  },
  {
   "cell_type": "code",
   "execution_count": 16,
   "id": "a84cbf7f",
   "metadata": {},
   "outputs": [
    {
     "data": {
      "text/html": [
       "<div>\n",
       "<style scoped>\n",
       "    .dataframe tbody tr th:only-of-type {\n",
       "        vertical-align: middle;\n",
       "    }\n",
       "\n",
       "    .dataframe tbody tr th {\n",
       "        vertical-align: top;\n",
       "    }\n",
       "\n",
       "    .dataframe thead th {\n",
       "        text-align: right;\n",
       "    }\n",
       "</style>\n",
       "<table border=\"1\" class=\"dataframe\">\n",
       "  <thead>\n",
       "    <tr style=\"text-align: right;\">\n",
       "      <th></th>\n",
       "      <th>CustomerID</th>\n",
       "      <th>AccountID</th>\n",
       "    </tr>\n",
       "  </thead>\n",
       "  <tbody>\n",
       "    <tr>\n",
       "      <th>count</th>\n",
       "      <td>99.000000</td>\n",
       "      <td>98.000000</td>\n",
       "    </tr>\n",
       "    <tr>\n",
       "      <th>mean</th>\n",
       "      <td>49.000000</td>\n",
       "      <td>46.551020</td>\n",
       "    </tr>\n",
       "    <tr>\n",
       "      <th>std</th>\n",
       "      <td>28.722813</td>\n",
       "      <td>27.679358</td>\n",
       "    </tr>\n",
       "    <tr>\n",
       "      <th>min</th>\n",
       "      <td>0.000000</td>\n",
       "      <td>0.000000</td>\n",
       "    </tr>\n",
       "    <tr>\n",
       "      <th>25%</th>\n",
       "      <td>24.500000</td>\n",
       "      <td>25.500000</td>\n",
       "    </tr>\n",
       "    <tr>\n",
       "      <th>50%</th>\n",
       "      <td>49.000000</td>\n",
       "      <td>42.000000</td>\n",
       "    </tr>\n",
       "    <tr>\n",
       "      <th>75%</th>\n",
       "      <td>73.500000</td>\n",
       "      <td>71.000000</td>\n",
       "    </tr>\n",
       "    <tr>\n",
       "      <th>max</th>\n",
       "      <td>98.000000</td>\n",
       "      <td>97.000000</td>\n",
       "    </tr>\n",
       "  </tbody>\n",
       "</table>\n",
       "</div>"
      ],
      "text/plain": [
       "       CustomerID  AccountID\n",
       "count   99.000000  98.000000\n",
       "mean    49.000000  46.551020\n",
       "std     28.722813  27.679358\n",
       "min      0.000000   0.000000\n",
       "25%     24.500000  25.500000\n",
       "50%     49.000000  42.000000\n",
       "75%     73.500000  71.000000\n",
       "max     98.000000  97.000000"
      ]
     },
     "execution_count": 16,
     "metadata": {},
     "output_type": "execute_result"
    }
   ],
   "source": [
    "df_bank_loaded.describe()"
   ]
  },
  {
   "cell_type": "code",
   "execution_count": 17,
   "id": "b6abaa1f",
   "metadata": {},
   "outputs": [
    {
     "name": "stdout",
     "output_type": "stream",
     "text": [
      "<class 'pandas.core.frame.DataFrame'>\n",
      "RangeIndex: 100 entries, 0 to 99\n",
      "Data columns (total 6 columns):\n",
      " #   Column         Non-Null Count  Dtype  \n",
      "---  ------         --------------  -----  \n",
      " 0   CustomerID     99 non-null     float64\n",
      " 1   BirthDate      99 non-null     object \n",
      " 2   SSN            99 non-null     object \n",
      " 3   AccountID      98 non-null     float64\n",
      " 4   AccountOpened  99 non-null     object \n",
      " 5   AccountType    99 non-null     object \n",
      "dtypes: float64(2), object(4)\n",
      "memory usage: 4.8+ KB\n"
     ]
    }
   ],
   "source": [
    "df_bank_loaded.info()"
   ]
  },
  {
   "cell_type": "markdown",
   "id": "8897936c-9af9-4344-bdb7-6290d8b34bce",
   "metadata": {},
   "source": [
    "Suggested Google Search or ChatGPT prompt: \"how do I use the describe function in python\"\n",
    "\n",
    "Example Google result: https://www.w3schools.com/python/pandas/ref_df_describe.asp"
   ]
  },
  {
   "cell_type": "code",
   "execution_count": 18,
   "id": "5fb74ed3-871e-41b6-99f5-da7eb3a37712",
   "metadata": {},
   "outputs": [
    {
     "data": {
      "text/html": [
       "<div>\n",
       "<style scoped>\n",
       "    .dataframe tbody tr th:only-of-type {\n",
       "        vertical-align: middle;\n",
       "    }\n",
       "\n",
       "    .dataframe tbody tr th {\n",
       "        vertical-align: top;\n",
       "    }\n",
       "\n",
       "    .dataframe thead th {\n",
       "        text-align: right;\n",
       "    }\n",
       "</style>\n",
       "<table border=\"1\" class=\"dataframe\">\n",
       "  <thead>\n",
       "    <tr style=\"text-align: right;\">\n",
       "      <th></th>\n",
       "      <th>CustomerID</th>\n",
       "      <th>BirthDate</th>\n",
       "      <th>SSN</th>\n",
       "      <th>AccountID</th>\n",
       "      <th>AccountOpened</th>\n",
       "      <th>AccountType</th>\n",
       "    </tr>\n",
       "  </thead>\n",
       "  <tbody>\n",
       "    <tr>\n",
       "      <th>0</th>\n",
       "      <td>0.0</td>\n",
       "      <td>1980</td>\n",
       "      <td>530-47-1866</td>\n",
       "      <td>4.0</td>\n",
       "      <td>1959-12-06</td>\n",
       "      <td>checking</td>\n",
       "    </tr>\n",
       "    <tr>\n",
       "      <th>1</th>\n",
       "      <td>1.0</td>\n",
       "      <td>no date</td>\n",
       "      <td>682-76-9175</td>\n",
       "      <td>67.0</td>\n",
       "      <td>2039-02-20</td>\n",
       "      <td>cd</td>\n",
       "    </tr>\n",
       "    <tr>\n",
       "      <th>2</th>\n",
       "      <td>2.0</td>\n",
       "      <td>1976-12-15</td>\n",
       "      <td>377-98-9839</td>\n",
       "      <td>NaN</td>\n",
       "      <td>2019-03-25</td>\n",
       "      <td>checking</td>\n",
       "    </tr>\n",
       "    <tr>\n",
       "      <th>3</th>\n",
       "      <td>3.0</td>\n",
       "      <td>2003-10-18</td>\n",
       "      <td>474-05-7613</td>\n",
       "      <td>86.0</td>\n",
       "      <td>2004-03-02</td>\n",
       "      <td>cd</td>\n",
       "    </tr>\n",
       "    <tr>\n",
       "      <th>4</th>\n",
       "      <td>4.0</td>\n",
       "      <td>1985-12-06</td>\n",
       "      <td>750-55-5509</td>\n",
       "      <td>77.0</td>\n",
       "      <td>2059-05-05</td>\n",
       "      <td>cd</td>\n",
       "    </tr>\n",
       "  </tbody>\n",
       "</table>\n",
       "</div>"
      ],
      "text/plain": [
       "   CustomerID   BirthDate          SSN  AccountID AccountOpened AccountType\n",
       "0         0.0        1980  530-47-1866        4.0    1959-12-06    checking\n",
       "1         1.0     no date  682-76-9175       67.0    2039-02-20          cd\n",
       "2         2.0  1976-12-15  377-98-9839        NaN    2019-03-25    checking\n",
       "3         3.0  2003-10-18  474-05-7613       86.0    2004-03-02          cd\n",
       "4         4.0  1985-12-06  750-55-5509       77.0    2059-05-05          cd"
      ]
     },
     "execution_count": 18,
     "metadata": {},
     "output_type": "execute_result"
    }
   ],
   "source": [
    "# The first few rows\n",
    "df_bank_loaded.iloc[0:5]"
   ]
  },
  {
   "cell_type": "markdown",
   "id": "e6062d1d-bf7f-4e81-8d19-60bd160c02d5",
   "metadata": {},
   "source": [
    "If you used describe() and info(), you now know that BirthDate and AccountOpened are strings.  But we want them to be dates.  Let's convert them to dates (or Timestamps in pandas).  When we try this, we get a ValueError."
   ]
  },
  {
   "cell_type": "code",
   "execution_count": 19,
   "id": "89e37c09-aee4-49f5-abc5-1e6ec9837b53",
   "metadata": {},
   "outputs": [
    {
     "name": "stdout",
     "output_type": "stream",
     "text": [
      "ValueError for BirthDate: time data \"1980\" doesn't match format \"%Y-%m-%d\", at position 0. You might want to try:\n",
      "    - passing `format` if your strings have a consistent format;\n",
      "    - passing `format='ISO8601'` if your strings are all ISO8601 but not necessarily in exactly the same format;\n",
      "    - passing `format='mixed'`, and the format will be inferred for each element individually. You might want to use `dayfirst` alongside this.\n"
     ]
    }
   ],
   "source": [
    "try:\n",
    "    df_bank_loaded[\"BirthDate\"] = pd.to_datetime(df_bank_loaded[\"BirthDate\"], format='%Y-%m-%d')\n",
    "    print(\"It worked!\")\n",
    "except ValueError as e:\n",
    "    print(f\"ValueError for BirthDate: {e}\")"
   ]
  },
  {
   "cell_type": "code",
   "execution_count": 20,
   "id": "dbcb584b-134b-475b-8fd4-70ca1ba7d03b",
   "metadata": {},
   "outputs": [
    {
     "name": "stdout",
     "output_type": "stream",
     "text": [
      "It worked!\n"
     ]
    }
   ],
   "source": [
    "try:\n",
    "    df_bank_loaded[\"AccountOpened\"] = pd.to_datetime(df_bank_loaded[\"AccountOpened\"], format='%Y-%m-%d')\n",
    "    print(\"It worked!\")\n",
    "except ValueError as e:\n",
    "    print(f\"ValueError for AccountOpened: {e}\")"
   ]
  },
  {
   "cell_type": "markdown",
   "id": "d64b1ccf-1001-40ab-b026-beae68b7fd19",
   "metadata": {},
   "source": [
    "The simple way to fix this is to remove the rows that have bad dates for BirthDate.  I Googled:\n",
    "\n",
    "\"How to remove rows from a dataframe that have poorly formatted dates using python\"\n",
    "\n",
    "https://stackoverflow.com/questions/21556744/pandas-remove-rows-whose-date-does-not-follow-specified-format\n",
    "\n",
    "This recommends that I verify that the date is a string of length 10, because YYYY-MM-DD has that length:\n",
    "\n",
    "df1\\[df1.BirthDate.str.len() !=10]"
   ]
  },
  {
   "cell_type": "code",
   "execution_count": 21,
   "id": "70ec53a1-2de5-48b5-9942-6857495e2b05",
   "metadata": {},
   "outputs": [
    {
     "data": {
      "text/plain": [
       "97"
      ]
     },
     "execution_count": 21,
     "metadata": {},
     "output_type": "execute_result"
    }
   ],
   "source": [
    "len(df_bank_loaded[df_bank_loaded.BirthDate.str.len() == 10])"
   ]
  },
  {
   "cell_type": "code",
   "execution_count": 22,
   "id": "a4edac07-185c-45ad-ba95-cca56bca0c7e",
   "metadata": {},
   "outputs": [
    {
     "data": {
      "text/html": [
       "<div>\n",
       "<style scoped>\n",
       "    .dataframe tbody tr th:only-of-type {\n",
       "        vertical-align: middle;\n",
       "    }\n",
       "\n",
       "    .dataframe tbody tr th {\n",
       "        vertical-align: top;\n",
       "    }\n",
       "\n",
       "    .dataframe thead th {\n",
       "        text-align: right;\n",
       "    }\n",
       "</style>\n",
       "<table border=\"1\" class=\"dataframe\">\n",
       "  <thead>\n",
       "    <tr style=\"text-align: right;\">\n",
       "      <th></th>\n",
       "      <th>CustomerID</th>\n",
       "      <th>BirthDate</th>\n",
       "      <th>SSN</th>\n",
       "      <th>AccountID</th>\n",
       "      <th>AccountOpened</th>\n",
       "      <th>AccountType</th>\n",
       "    </tr>\n",
       "  </thead>\n",
       "  <tbody>\n",
       "    <tr>\n",
       "      <th>0</th>\n",
       "      <td>0.0</td>\n",
       "      <td>1980</td>\n",
       "      <td>530-47-1866</td>\n",
       "      <td>4.0</td>\n",
       "      <td>1959-12-06</td>\n",
       "      <td>checking</td>\n",
       "    </tr>\n",
       "    <tr>\n",
       "      <th>1</th>\n",
       "      <td>1.0</td>\n",
       "      <td>no date</td>\n",
       "      <td>682-76-9175</td>\n",
       "      <td>67.0</td>\n",
       "      <td>2039-02-20</td>\n",
       "      <td>cd</td>\n",
       "    </tr>\n",
       "    <tr>\n",
       "      <th>99</th>\n",
       "      <td>NaN</td>\n",
       "      <td>NaN</td>\n",
       "      <td>NaN</td>\n",
       "      <td>NaN</td>\n",
       "      <td>NaT</td>\n",
       "      <td>NaN</td>\n",
       "    </tr>\n",
       "  </tbody>\n",
       "</table>\n",
       "</div>"
      ],
      "text/plain": [
       "    CustomerID BirthDate          SSN  AccountID AccountOpened AccountType\n",
       "0          0.0      1980  530-47-1866        4.0    1959-12-06    checking\n",
       "1          1.0   no date  682-76-9175       67.0    2039-02-20          cd\n",
       "99         NaN       NaN          NaN        NaN           NaT         NaN"
      ]
     },
     "execution_count": 22,
     "metadata": {},
     "output_type": "execute_result"
    }
   ],
   "source": [
    "df_bank_loaded[df_bank_loaded.BirthDate.str.len() != 10].iloc[0:5]"
   ]
  },
  {
   "cell_type": "markdown",
   "id": "2503d01f-0168-43f9-a271-6f529e47886f",
   "metadata": {},
   "source": [
    "Now we can make this permanent, creating a new DataFrame df_bank_datefix.\n",
    "I am making a copy in order to ensure that df_bank_datefix is a new DataFrame rather than being a slice of the old one."
   ]
  },
  {
   "cell_type": "code",
   "execution_count": 23,
   "id": "d1bed857-0d03-4091-9838-fd75227c63e3",
   "metadata": {},
   "outputs": [],
   "source": [
    "df_bank_datefix = df_bank_loaded[df_bank_loaded.BirthDate.str.len() == 10].copy()"
   ]
  },
  {
   "cell_type": "markdown",
   "id": "838e568e-a333-4d18-ba8d-84c2926191e8",
   "metadata": {},
   "source": [
    "Test again:"
   ]
  },
  {
   "cell_type": "code",
   "execution_count": 24,
   "id": "d8655d6a-0a79-42c4-891a-cb421d664ca0",
   "metadata": {},
   "outputs": [
    {
     "name": "stdout",
     "output_type": "stream",
     "text": [
      "It worked!\n"
     ]
    }
   ],
   "source": [
    "try:\n",
    "    df_bank_datefix[\"BirthDate\"] = pd.to_datetime(df_bank_datefix[\"BirthDate\"], format='%Y-%m-%d')\n",
    "    print(\"It worked!\")\n",
    "except ValueError as e:\n",
    "    print(f\"ValueError: {e}\")"
   ]
  },
  {
   "cell_type": "markdown",
   "id": "fa88b739-9481-46fd-a8bd-996ed0e0bc2f",
   "metadata": {},
   "source": [
    "2. To check that it worked, use a summary function that will tell you if the BirthDate field is now a datetime type"
   ]
  },
  {
   "cell_type": "code",
   "execution_count": 25,
   "id": "ce550219-274c-4e3c-953d-cdf920a37990",
   "metadata": {},
   "outputs": [
    {
     "name": "stdout",
     "output_type": "stream",
     "text": [
      "<class 'pandas.core.frame.DataFrame'>\n",
      "Index: 97 entries, 2 to 98\n",
      "Data columns (total 6 columns):\n",
      " #   Column         Non-Null Count  Dtype         \n",
      "---  ------         --------------  -----         \n",
      " 0   CustomerID     97 non-null     float64       \n",
      " 1   BirthDate      97 non-null     datetime64[ns]\n",
      " 2   SSN            97 non-null     object        \n",
      " 3   AccountID      96 non-null     float64       \n",
      " 4   AccountOpened  97 non-null     datetime64[ns]\n",
      " 5   AccountType    97 non-null     object        \n",
      "dtypes: datetime64[ns](2), float64(2), object(2)\n",
      "memory usage: 5.3+ KB\n"
     ]
    },
    {
     "data": {
      "text/plain": [
       "dtype('<M8[ns]')"
      ]
     },
     "execution_count": 25,
     "metadata": {},
     "output_type": "execute_result"
    }
   ],
   "source": [
    "df_bank_datefix.info()\n",
    "df_bank_datefix['BirthDate'].dtypes"
   ]
  },
  {
   "cell_type": "markdown",
   "id": "ed7ac0d0-be31-4c50-838d-f104463a8114",
   "metadata": {},
   "source": [
    "3. Check whether there are any null values in the DataFrame.  If so, remove those rows or (if you prefer) fill in the value with an appropriate number.\n",
    "\n",
    "First try at a Google search or ChatGPT prompt: \"how do I find out if there are any null values in a pandas DataFrame?\"\n",
    "\n",
    "This page gives an answer.  Unfortunately, it took my request too literally: it tells me only if there are any, and not which rows have them.  On reflection, that's not really what I want - I think I asked the wrong question.  I want to see the rows, not just _whether_ there are any.\n",
    "\n",
    "https://stackoverflow.com/questions/29530232/how-to-check-if-any-value-is-nan-in-a-pandas-dataframe\n",
    "\n",
    "ChatGPT likewise doesn't give the answer I want - because I asked the wrong question.\n",
    "\n",
    "Next try at a Google search or ChatGPT prompt: \"how do I check which rows have null values in a pandas DataFrame?\"\n",
    "\n",
    "This page gives an answer:\n",
    "\n",
    "https://stackoverflow.com/questions/36226083/how-to-find-which-columns-contain-any-nan-value-in-pandas-dataframe\n",
    "\n",
    "ChatGPT also gives a good answer.  I recommend looking at both of them!\n",
    "\n",
    "Now try it on your own:\n",
    "\n",
    "Suggested Google search or ChatGPT prompt: \"how do I remove rows with null values in a pandas DataFrame?\"\n",
    "\n",
    "Suggested Google search or ChatGPT prompt: \"how do I fill in null values in a pandas DataFrame?\""
   ]
  },
  {
   "cell_type": "code",
   "execution_count": 26,
   "id": "a8ffaf2e-a8b2-42a2-ad09-e014431fccea",
   "metadata": {},
   "outputs": [
    {
     "name": "stdout",
     "output_type": "stream",
     "text": [
      "<class 'pandas.core.frame.DataFrame'>\n",
      "Index: 96 entries, 3 to 98\n",
      "Data columns (total 6 columns):\n",
      " #   Column         Non-Null Count  Dtype         \n",
      "---  ------         --------------  -----         \n",
      " 0   CustomerID     96 non-null     float64       \n",
      " 1   BirthDate      96 non-null     datetime64[ns]\n",
      " 2   SSN            96 non-null     object        \n",
      " 3   AccountID      96 non-null     float64       \n",
      " 4   AccountOpened  96 non-null     datetime64[ns]\n",
      " 5   AccountType    96 non-null     object        \n",
      "dtypes: datetime64[ns](2), float64(2), object(2)\n",
      "memory usage: 5.2+ KB\n"
     ]
    },
    {
     "data": {
      "text/html": [
       "<div>\n",
       "<style scoped>\n",
       "    .dataframe tbody tr th:only-of-type {\n",
       "        vertical-align: middle;\n",
       "    }\n",
       "\n",
       "    .dataframe tbody tr th {\n",
       "        vertical-align: top;\n",
       "    }\n",
       "\n",
       "    .dataframe thead th {\n",
       "        text-align: right;\n",
       "    }\n",
       "</style>\n",
       "<table border=\"1\" class=\"dataframe\">\n",
       "  <thead>\n",
       "    <tr style=\"text-align: right;\">\n",
       "      <th></th>\n",
       "      <th>CustomerID</th>\n",
       "      <th>BirthDate</th>\n",
       "      <th>SSN</th>\n",
       "      <th>AccountID</th>\n",
       "      <th>AccountOpened</th>\n",
       "      <th>AccountType</th>\n",
       "    </tr>\n",
       "  </thead>\n",
       "  <tbody>\n",
       "    <tr>\n",
       "      <th>3</th>\n",
       "      <td>3.0</td>\n",
       "      <td>2003-10-18</td>\n",
       "      <td>474-05-7613</td>\n",
       "      <td>86.0</td>\n",
       "      <td>2004-03-02</td>\n",
       "      <td>cd</td>\n",
       "    </tr>\n",
       "    <tr>\n",
       "      <th>4</th>\n",
       "      <td>4.0</td>\n",
       "      <td>1985-12-06</td>\n",
       "      <td>750-55-5509</td>\n",
       "      <td>77.0</td>\n",
       "      <td>2059-05-05</td>\n",
       "      <td>cd</td>\n",
       "    </tr>\n",
       "    <tr>\n",
       "      <th>5</th>\n",
       "      <td>5.0</td>\n",
       "      <td>2008-02-29</td>\n",
       "      <td>671-43-0485</td>\n",
       "      <td>75.0</td>\n",
       "      <td>2025-05-03</td>\n",
       "      <td>checking</td>\n",
       "    </tr>\n",
       "    <tr>\n",
       "      <th>6</th>\n",
       "      <td>6.0</td>\n",
       "      <td>1975-04-05</td>\n",
       "      <td>288-62-9296</td>\n",
       "      <td>56.0</td>\n",
       "      <td>2048-09-21</td>\n",
       "      <td>savings</td>\n",
       "    </tr>\n",
       "    <tr>\n",
       "      <th>7</th>\n",
       "      <td>7.0</td>\n",
       "      <td>2016-06-18</td>\n",
       "      <td>593-49-1249</td>\n",
       "      <td>16.0</td>\n",
       "      <td>2087-07-24</td>\n",
       "      <td>savings</td>\n",
       "    </tr>\n",
       "    <tr>\n",
       "      <th>...</th>\n",
       "      <td>...</td>\n",
       "      <td>...</td>\n",
       "      <td>...</td>\n",
       "      <td>...</td>\n",
       "      <td>...</td>\n",
       "      <td>...</td>\n",
       "    </tr>\n",
       "    <tr>\n",
       "      <th>94</th>\n",
       "      <td>94.0</td>\n",
       "      <td>1969-03-14</td>\n",
       "      <td>958-12-8308</td>\n",
       "      <td>5.0</td>\n",
       "      <td>2037-04-03</td>\n",
       "      <td>savings</td>\n",
       "    </tr>\n",
       "    <tr>\n",
       "      <th>95</th>\n",
       "      <td>95.0</td>\n",
       "      <td>1975-09-23</td>\n",
       "      <td>607-97-1651</td>\n",
       "      <td>36.0</td>\n",
       "      <td>2011-07-24</td>\n",
       "      <td>checking</td>\n",
       "    </tr>\n",
       "    <tr>\n",
       "      <th>96</th>\n",
       "      <td>96.0</td>\n",
       "      <td>1989-03-09</td>\n",
       "      <td>870-80-0364</td>\n",
       "      <td>0.0</td>\n",
       "      <td>2054-11-01</td>\n",
       "      <td>cd</td>\n",
       "    </tr>\n",
       "    <tr>\n",
       "      <th>97</th>\n",
       "      <td>97.0</td>\n",
       "      <td>1960-09-23</td>\n",
       "      <td>773-33-2797</td>\n",
       "      <td>75.0</td>\n",
       "      <td>1993-09-16</td>\n",
       "      <td>cd</td>\n",
       "    </tr>\n",
       "    <tr>\n",
       "      <th>98</th>\n",
       "      <td>98.0</td>\n",
       "      <td>1975-08-17</td>\n",
       "      <td>846-64-7054</td>\n",
       "      <td>34.0</td>\n",
       "      <td>2032-12-25</td>\n",
       "      <td>savings</td>\n",
       "    </tr>\n",
       "  </tbody>\n",
       "</table>\n",
       "<p>96 rows × 6 columns</p>\n",
       "</div>"
      ],
      "text/plain": [
       "    CustomerID  BirthDate          SSN  AccountID AccountOpened AccountType\n",
       "3          3.0 2003-10-18  474-05-7613       86.0    2004-03-02          cd\n",
       "4          4.0 1985-12-06  750-55-5509       77.0    2059-05-05          cd\n",
       "5          5.0 2008-02-29  671-43-0485       75.0    2025-05-03    checking\n",
       "6          6.0 1975-04-05  288-62-9296       56.0    2048-09-21     savings\n",
       "7          7.0 2016-06-18  593-49-1249       16.0    2087-07-24     savings\n",
       "..         ...        ...          ...        ...           ...         ...\n",
       "94        94.0 1969-03-14  958-12-8308        5.0    2037-04-03     savings\n",
       "95        95.0 1975-09-23  607-97-1651       36.0    2011-07-24    checking\n",
       "96        96.0 1989-03-09  870-80-0364        0.0    2054-11-01          cd\n",
       "97        97.0 1960-09-23  773-33-2797       75.0    1993-09-16          cd\n",
       "98        98.0 1975-08-17  846-64-7054       34.0    2032-12-25     savings\n",
       "\n",
       "[96 rows x 6 columns]"
      ]
     },
     "execution_count": 26,
     "metadata": {},
     "output_type": "execute_result"
    }
   ],
   "source": [
    "# Make a clean copy by removing all rows containing NaN values.\n",
    "\n",
    "df_dropped_na = df_bank_datefix.copy().dropna()\n",
    "\n",
    "df_dropped_na.info()\n",
    "\n",
    "df_dropped_na"
   ]
  },
  {
   "cell_type": "code",
   "execution_count": 27,
   "id": "8b931e90",
   "metadata": {},
   "outputs": [
    {
     "name": "stdout",
     "output_type": "stream",
     "text": [
      "<class 'pandas.core.frame.DataFrame'>\n",
      "Index: 97 entries, 2 to 98\n",
      "Data columns (total 6 columns):\n",
      " #   Column         Non-Null Count  Dtype         \n",
      "---  ------         --------------  -----         \n",
      " 0   CustomerID     97 non-null     float64       \n",
      " 1   BirthDate      97 non-null     datetime64[ns]\n",
      " 2   SSN            97 non-null     object        \n",
      " 3   AccountID      97 non-null     float64       \n",
      " 4   AccountOpened  97 non-null     datetime64[ns]\n",
      " 5   AccountType    97 non-null     object        \n",
      "dtypes: datetime64[ns](2), float64(2), object(2)\n",
      "memory usage: 5.3+ KB\n"
     ]
    },
    {
     "data": {
      "text/html": [
       "<div>\n",
       "<style scoped>\n",
       "    .dataframe tbody tr th:only-of-type {\n",
       "        vertical-align: middle;\n",
       "    }\n",
       "\n",
       "    .dataframe tbody tr th {\n",
       "        vertical-align: top;\n",
       "    }\n",
       "\n",
       "    .dataframe thead th {\n",
       "        text-align: right;\n",
       "    }\n",
       "</style>\n",
       "<table border=\"1\" class=\"dataframe\">\n",
       "  <thead>\n",
       "    <tr style=\"text-align: right;\">\n",
       "      <th></th>\n",
       "      <th>CustomerID</th>\n",
       "      <th>BirthDate</th>\n",
       "      <th>SSN</th>\n",
       "      <th>AccountID</th>\n",
       "      <th>AccountOpened</th>\n",
       "      <th>AccountType</th>\n",
       "    </tr>\n",
       "  </thead>\n",
       "  <tbody>\n",
       "    <tr>\n",
       "      <th>2</th>\n",
       "      <td>2.0</td>\n",
       "      <td>1976-12-15</td>\n",
       "      <td>377-98-9839</td>\n",
       "      <td>-1.0</td>\n",
       "      <td>2019-03-25</td>\n",
       "      <td>checking</td>\n",
       "    </tr>\n",
       "    <tr>\n",
       "      <th>3</th>\n",
       "      <td>3.0</td>\n",
       "      <td>2003-10-18</td>\n",
       "      <td>474-05-7613</td>\n",
       "      <td>86.0</td>\n",
       "      <td>2004-03-02</td>\n",
       "      <td>cd</td>\n",
       "    </tr>\n",
       "    <tr>\n",
       "      <th>4</th>\n",
       "      <td>4.0</td>\n",
       "      <td>1985-12-06</td>\n",
       "      <td>750-55-5509</td>\n",
       "      <td>77.0</td>\n",
       "      <td>2059-05-05</td>\n",
       "      <td>cd</td>\n",
       "    </tr>\n",
       "    <tr>\n",
       "      <th>5</th>\n",
       "      <td>5.0</td>\n",
       "      <td>2008-02-29</td>\n",
       "      <td>671-43-0485</td>\n",
       "      <td>75.0</td>\n",
       "      <td>2025-05-03</td>\n",
       "      <td>checking</td>\n",
       "    </tr>\n",
       "    <tr>\n",
       "      <th>6</th>\n",
       "      <td>6.0</td>\n",
       "      <td>1975-04-05</td>\n",
       "      <td>288-62-9296</td>\n",
       "      <td>56.0</td>\n",
       "      <td>2048-09-21</td>\n",
       "      <td>savings</td>\n",
       "    </tr>\n",
       "    <tr>\n",
       "      <th>...</th>\n",
       "      <td>...</td>\n",
       "      <td>...</td>\n",
       "      <td>...</td>\n",
       "      <td>...</td>\n",
       "      <td>...</td>\n",
       "      <td>...</td>\n",
       "    </tr>\n",
       "    <tr>\n",
       "      <th>94</th>\n",
       "      <td>94.0</td>\n",
       "      <td>1969-03-14</td>\n",
       "      <td>958-12-8308</td>\n",
       "      <td>5.0</td>\n",
       "      <td>2037-04-03</td>\n",
       "      <td>savings</td>\n",
       "    </tr>\n",
       "    <tr>\n",
       "      <th>95</th>\n",
       "      <td>95.0</td>\n",
       "      <td>1975-09-23</td>\n",
       "      <td>607-97-1651</td>\n",
       "      <td>36.0</td>\n",
       "      <td>2011-07-24</td>\n",
       "      <td>checking</td>\n",
       "    </tr>\n",
       "    <tr>\n",
       "      <th>96</th>\n",
       "      <td>96.0</td>\n",
       "      <td>1989-03-09</td>\n",
       "      <td>870-80-0364</td>\n",
       "      <td>0.0</td>\n",
       "      <td>2054-11-01</td>\n",
       "      <td>cd</td>\n",
       "    </tr>\n",
       "    <tr>\n",
       "      <th>97</th>\n",
       "      <td>97.0</td>\n",
       "      <td>1960-09-23</td>\n",
       "      <td>773-33-2797</td>\n",
       "      <td>75.0</td>\n",
       "      <td>1993-09-16</td>\n",
       "      <td>cd</td>\n",
       "    </tr>\n",
       "    <tr>\n",
       "      <th>98</th>\n",
       "      <td>98.0</td>\n",
       "      <td>1975-08-17</td>\n",
       "      <td>846-64-7054</td>\n",
       "      <td>34.0</td>\n",
       "      <td>2032-12-25</td>\n",
       "      <td>savings</td>\n",
       "    </tr>\n",
       "  </tbody>\n",
       "</table>\n",
       "<p>97 rows × 6 columns</p>\n",
       "</div>"
      ],
      "text/plain": [
       "    CustomerID  BirthDate          SSN  AccountID AccountOpened AccountType\n",
       "2          2.0 1976-12-15  377-98-9839       -1.0    2019-03-25    checking\n",
       "3          3.0 2003-10-18  474-05-7613       86.0    2004-03-02          cd\n",
       "4          4.0 1985-12-06  750-55-5509       77.0    2059-05-05          cd\n",
       "5          5.0 2008-02-29  671-43-0485       75.0    2025-05-03    checking\n",
       "6          6.0 1975-04-05  288-62-9296       56.0    2048-09-21     savings\n",
       "..         ...        ...          ...        ...           ...         ...\n",
       "94        94.0 1969-03-14  958-12-8308        5.0    2037-04-03     savings\n",
       "95        95.0 1975-09-23  607-97-1651       36.0    2011-07-24    checking\n",
       "96        96.0 1989-03-09  870-80-0364        0.0    2054-11-01          cd\n",
       "97        97.0 1960-09-23  773-33-2797       75.0    1993-09-16          cd\n",
       "98        98.0 1975-08-17  846-64-7054       34.0    2032-12-25     savings\n",
       "\n",
       "[97 rows x 6 columns]"
      ]
     },
     "execution_count": 27,
     "metadata": {},
     "output_type": "execute_result"
    }
   ],
   "source": [
    "# Fill all NaN values with -1, treating -1 as a dummy code for missing/potentially anomalous data.\n",
    "# Note: Filling identifier features like 'AccountID' with mean or KNN is inappropriate.\n",
    "\n",
    "df_filled_na = df_bank_datefix.copy().fillna(-1)\n",
    "\n",
    "df_filled_na.info()\n",
    "\n",
    "df_filled_na"
   ]
  },
  {
   "cell_type": "markdown",
   "id": "54ca88fe-0b67-473e-965f-7e5da13f2a02",
   "metadata": {},
   "source": [
    "4. Find out if there are any duplicate rows (two rows exactly the same).  List their row numbers.  Then remove the duplicates"
   ]
  },
  {
   "cell_type": "markdown",
   "id": "5abf0983-4861-486b-bfc0-942b6772c866",
   "metadata": {},
   "source": [
    "Suggested Google search or ChatGPT prompt: \"how can I find out if there are any duplicate rows in a DataFrame using Python\"\n",
    "\n",
    "Again, Google provides me with a page that addresses the question:\n",
    "\n",
    "https://saturncloud.io/blog/how-to-find-all-duplicate-rows-in-a-pandas-dataframe/\n",
    "\n",
    "To remove the duplicates, do this search: \"how can I remove the duplicate rows in a DataFrame using Python\"\n",
    "\n",
    "This leads me to the following documentation.\n",
    "\n",
    "https://pandas.pydata.org/docs/reference/api/pandas.DataFrame.drop_duplicates.html"
   ]
  },
  {
   "cell_type": "code",
   "execution_count": 28,
   "id": "acd1cc2f-2879-4839-8ac7-9b2bc306dfb5",
   "metadata": {},
   "outputs": [
    {
     "data": {
      "text/plain": [
       "3     False\n",
       "4     False\n",
       "5     False\n",
       "6     False\n",
       "7     False\n",
       "      ...  \n",
       "94    False\n",
       "95    False\n",
       "96    False\n",
       "97    False\n",
       "98    False\n",
       "Length: 96, dtype: bool"
      ]
     },
     "execution_count": 28,
     "metadata": {},
     "output_type": "execute_result"
    }
   ],
   "source": [
    "\n",
    "df_bank_clean = df_dropped_na.copy()\n",
    "\n",
    "duplicates_rows = df_bank_clean.duplicated()\n",
    "\n",
    "duplicates_rows\n",
    "\n"
   ]
  },
  {
   "cell_type": "code",
   "execution_count": 29,
   "id": "533f0f43",
   "metadata": {},
   "outputs": [
    {
     "data": {
      "text/html": [
       "<div>\n",
       "<style scoped>\n",
       "    .dataframe tbody tr th:only-of-type {\n",
       "        vertical-align: middle;\n",
       "    }\n",
       "\n",
       "    .dataframe tbody tr th {\n",
       "        vertical-align: top;\n",
       "    }\n",
       "\n",
       "    .dataframe thead th {\n",
       "        text-align: right;\n",
       "    }\n",
       "</style>\n",
       "<table border=\"1\" class=\"dataframe\">\n",
       "  <thead>\n",
       "    <tr style=\"text-align: right;\">\n",
       "      <th></th>\n",
       "      <th>CustomerID</th>\n",
       "      <th>BirthDate</th>\n",
       "      <th>SSN</th>\n",
       "      <th>AccountID</th>\n",
       "      <th>AccountOpened</th>\n",
       "      <th>AccountType</th>\n",
       "    </tr>\n",
       "  </thead>\n",
       "  <tbody>\n",
       "    <tr>\n",
       "      <th>3</th>\n",
       "      <td>3.0</td>\n",
       "      <td>2003-10-18</td>\n",
       "      <td>474-05-7613</td>\n",
       "      <td>86.0</td>\n",
       "      <td>2004-03-02</td>\n",
       "      <td>cd</td>\n",
       "    </tr>\n",
       "    <tr>\n",
       "      <th>4</th>\n",
       "      <td>4.0</td>\n",
       "      <td>1985-12-06</td>\n",
       "      <td>750-55-5509</td>\n",
       "      <td>77.0</td>\n",
       "      <td>2059-05-05</td>\n",
       "      <td>cd</td>\n",
       "    </tr>\n",
       "    <tr>\n",
       "      <th>5</th>\n",
       "      <td>5.0</td>\n",
       "      <td>2008-02-29</td>\n",
       "      <td>671-43-0485</td>\n",
       "      <td>75.0</td>\n",
       "      <td>2025-05-03</td>\n",
       "      <td>checking</td>\n",
       "    </tr>\n",
       "    <tr>\n",
       "      <th>6</th>\n",
       "      <td>6.0</td>\n",
       "      <td>1975-04-05</td>\n",
       "      <td>288-62-9296</td>\n",
       "      <td>56.0</td>\n",
       "      <td>2048-09-21</td>\n",
       "      <td>savings</td>\n",
       "    </tr>\n",
       "    <tr>\n",
       "      <th>7</th>\n",
       "      <td>7.0</td>\n",
       "      <td>2016-06-18</td>\n",
       "      <td>593-49-1249</td>\n",
       "      <td>16.0</td>\n",
       "      <td>2087-07-24</td>\n",
       "      <td>savings</td>\n",
       "    </tr>\n",
       "    <tr>\n",
       "      <th>...</th>\n",
       "      <td>...</td>\n",
       "      <td>...</td>\n",
       "      <td>...</td>\n",
       "      <td>...</td>\n",
       "      <td>...</td>\n",
       "      <td>...</td>\n",
       "    </tr>\n",
       "    <tr>\n",
       "      <th>94</th>\n",
       "      <td>94.0</td>\n",
       "      <td>1969-03-14</td>\n",
       "      <td>958-12-8308</td>\n",
       "      <td>5.0</td>\n",
       "      <td>2037-04-03</td>\n",
       "      <td>savings</td>\n",
       "    </tr>\n",
       "    <tr>\n",
       "      <th>95</th>\n",
       "      <td>95.0</td>\n",
       "      <td>1975-09-23</td>\n",
       "      <td>607-97-1651</td>\n",
       "      <td>36.0</td>\n",
       "      <td>2011-07-24</td>\n",
       "      <td>checking</td>\n",
       "    </tr>\n",
       "    <tr>\n",
       "      <th>96</th>\n",
       "      <td>96.0</td>\n",
       "      <td>1989-03-09</td>\n",
       "      <td>870-80-0364</td>\n",
       "      <td>0.0</td>\n",
       "      <td>2054-11-01</td>\n",
       "      <td>cd</td>\n",
       "    </tr>\n",
       "    <tr>\n",
       "      <th>97</th>\n",
       "      <td>97.0</td>\n",
       "      <td>1960-09-23</td>\n",
       "      <td>773-33-2797</td>\n",
       "      <td>75.0</td>\n",
       "      <td>1993-09-16</td>\n",
       "      <td>cd</td>\n",
       "    </tr>\n",
       "    <tr>\n",
       "      <th>98</th>\n",
       "      <td>98.0</td>\n",
       "      <td>1975-08-17</td>\n",
       "      <td>846-64-7054</td>\n",
       "      <td>34.0</td>\n",
       "      <td>2032-12-25</td>\n",
       "      <td>savings</td>\n",
       "    </tr>\n",
       "  </tbody>\n",
       "</table>\n",
       "<p>96 rows × 6 columns</p>\n",
       "</div>"
      ],
      "text/plain": [
       "    CustomerID  BirthDate          SSN  AccountID AccountOpened AccountType\n",
       "3          3.0 2003-10-18  474-05-7613       86.0    2004-03-02          cd\n",
       "4          4.0 1985-12-06  750-55-5509       77.0    2059-05-05          cd\n",
       "5          5.0 2008-02-29  671-43-0485       75.0    2025-05-03    checking\n",
       "6          6.0 1975-04-05  288-62-9296       56.0    2048-09-21     savings\n",
       "7          7.0 2016-06-18  593-49-1249       16.0    2087-07-24     savings\n",
       "..         ...        ...          ...        ...           ...         ...\n",
       "94        94.0 1969-03-14  958-12-8308        5.0    2037-04-03     savings\n",
       "95        95.0 1975-09-23  607-97-1651       36.0    2011-07-24    checking\n",
       "96        96.0 1989-03-09  870-80-0364        0.0    2054-11-01          cd\n",
       "97        97.0 1960-09-23  773-33-2797       75.0    1993-09-16          cd\n",
       "98        98.0 1975-08-17  846-64-7054       34.0    2032-12-25     savings\n",
       "\n",
       "[96 rows x 6 columns]"
      ]
     },
     "execution_count": 29,
     "metadata": {},
     "output_type": "execute_result"
    }
   ],
   "source": [
    "df_bank_nodup = df_bank_clean.drop_duplicates(keep='first')\n",
    "\n",
    "df_bank_nodup"
   ]
  },
  {
   "cell_type": "code",
   "execution_count": 30,
   "id": "c5a4cef0",
   "metadata": {},
   "outputs": [
    {
     "name": "stdout",
     "output_type": "stream",
     "text": [
      "No duplicate rows found.\n"
     ]
    }
   ],
   "source": [
    "has_any_duplicates = df_bank_clean.duplicated().any()\n",
    "\n",
    "if has_any_duplicates:\n",
    "    print(\"Duplicate rows were found.\")\n",
    "    # Remove duplicates, keeping the first occurrence.\n",
    "    df_bank_nodup = df_bank_clean.drop_duplicates(keep='first')\n",
    "    print(f\"Duplicates removed. Rows changed from {len(df_bank_clean)} to {len(df_bank_nodup)}.\")\n",
    "else:\n",
    "    print('No duplicate rows found.')    "
   ]
  },
  {
   "cell_type": "markdown",
   "id": "cc5cd8a5-c8bd-498c-b8b5-25dd74cdd2c6",
   "metadata": {},
   "source": [
    "5. Check whether the customers all have unique AccountIDs.  If not, provide the first example of a non-unique AccountId."
   ]
  },
  {
   "cell_type": "markdown",
   "id": "9b4f3f46-b09e-4a48-a3f4-72e1d1ba77fc",
   "metadata": {},
   "source": [
    "Suggested Google search or ChatGPT prompt: \"how can I find the first non-unique item from a pandas Series in python\"\n",
    "\n",
    "By the way: why didn't I ask the question \"how can I check whether the customers all have unique AccountIDs\"?\n",
    "\n",
    "The problem would be that Google and ChatGPT don't know what \"customers\" you are talking about.  It's important to understand that the AccountIDs are a column of a DataFrame, and as such they are a Series.  Therefore, we should use the correct vocabulary and ask about a Series.  If you mess up and ask about a \"list\" instead of a Series, you _might_ get an answer that still works.  But it's better to get the vocabularly right.\n",
    "\n",
    "It's important to add \"in python\" because this task could be performed in many languages.\n",
    "\n",
    "ChatGPT gave me this suggestion: data[data.isin(data[data.duplicated()])].iloc[0]\n",
    "However, ChatGPT did not explain how this code worked and even claimed (falsely) that it was going to use the value_counts() function in the solution.  So although the code is correct, I personally found ChatGPT's answer very confusing.  You could, perhaps, ask ChatGPT to explain further how this code works.\n",
    "\n",
    "ChatGPT, \"How does this code work: data[data.isin(data[data.duplicated()])].iloc[0]\"\n",
    "\n",
    "On the other hand, Google leads me to the documentation for the duplicated() function:\n",
    "\n",
    "https://pandas.pydata.org/docs/reference/api/pandas.Series.duplicated.html\n",
    "\n",
    "Here, I can see that when I really need is data.duplicated(keep = False), where \"data\" should be the Series in question.  However, this just gives me a Series of boolean values indicating which ones are duplicates.  I have to somehow know that extracting the numerical values instead of a Series of booleans involves boolean indexing: data\\[data.duplicated(keep = False)].\n",
    "\n",
    "So as usual, I'd suggest that a combination of Google, documentation, and ChatGPT will give you the best information."
   ]
  },
  {
   "cell_type": "code",
   "execution_count": 31,
   "id": "d3825ba0-a790-42e0-94ad-df931dbad3cf",
   "metadata": {},
   "outputs": [
    {
     "data": {
      "text/plain": [
       "3     False\n",
       "4     False\n",
       "5     False\n",
       "6     False\n",
       "7     False\n",
       "      ...  \n",
       "94    False\n",
       "95    False\n",
       "96    False\n",
       "97     True\n",
       "98     True\n",
       "Name: AccountID, Length: 96, dtype: bool"
      ]
     },
     "execution_count": 31,
     "metadata": {},
     "output_type": "execute_result"
    }
   ],
   "source": [
    "df_bank_nodup['AccountID'].duplicated()"
   ]
  },
  {
   "cell_type": "code",
   "execution_count": 32,
   "id": "3cf7d3b3",
   "metadata": {},
   "outputs": [
    {
     "name": "stdout",
     "output_type": "stream",
     "text": [
      "    CustomerID  BirthDate          SSN  AccountID AccountOpened AccountType\n",
      "41        41.0 1996-08-30  560-38-9694        3.0    2073-11-13     savings\n",
      "78        78.0 1973-08-10  020-16-6942        3.0    1990-01-24     savings\n",
      "74        74.0 2023-01-19  086-36-1272        3.0    2093-12-24          cd\n",
      "70        70.0 1987-08-29  786-80-0915        9.0    2008-10-01    checking\n",
      "80        80.0 2006-04-28  763-71-6221        9.0    2029-03-10     savings\n",
      "..         ...        ...          ...        ...           ...         ...\n",
      "87        87.0 2001-01-08  026-22-8040       85.0    2015-05-15     savings\n",
      "44        44.0 2018-06-12  275-51-1419       86.0    2095-12-10    checking\n",
      "3          3.0 2003-10-18  474-05-7613       86.0    2004-03-02          cd\n",
      "37        37.0 2017-07-23  991-68-0187       88.0    2094-12-17    checking\n",
      "92        92.0 1989-03-21  310-31-9554       88.0    1991-03-23     savings\n",
      "\n",
      "[62 rows x 6 columns]\n"
     ]
    }
   ],
   "source": [
    "all_duplicate_occurrences_mask = df_bank_nodup['AccountID'].duplicated(keep=False)\n",
    "df_with_all_duplicate_account_ids = df_bank_nodup[all_duplicate_occurrences_mask]\n",
    "print(df_with_all_duplicate_account_ids.sort_values(by='AccountID'))"
   ]
  },
  {
   "cell_type": "code",
   "execution_count": 33,
   "id": "55d6dc3b",
   "metadata": {},
   "outputs": [
    {
     "name": "stdout",
     "output_type": "stream",
     "text": [
      "    CustomerID  BirthDate          SSN  AccountID AccountOpened AccountType\n",
      "41        41.0 1996-08-30  560-38-9694        3.0    2073-11-13     savings\n",
      "74        74.0 2023-01-19  086-36-1272        3.0    2093-12-24          cd\n",
      "78        78.0 1973-08-10  020-16-6942        3.0    1990-01-24     savings\n",
      "70        70.0 1987-08-29  786-80-0915        9.0    2008-10-01    checking\n",
      "80        80.0 2006-04-28  763-71-6221        9.0    2029-03-10     savings\n",
      "..         ...        ...          ...        ...           ...         ...\n",
      "87        87.0 2001-01-08  026-22-8040       85.0    2015-05-15     savings\n",
      "3          3.0 2003-10-18  474-05-7613       86.0    2004-03-02          cd\n",
      "44        44.0 2018-06-12  275-51-1419       86.0    2095-12-10    checking\n",
      "37        37.0 2017-07-23  991-68-0187       88.0    2094-12-17    checking\n",
      "92        92.0 1989-03-21  310-31-9554       88.0    1991-03-23     savings\n",
      "\n",
      "[62 rows x 6 columns]\n"
     ]
    }
   ],
   "source": [
    "all_duplicate_occurrences_mask = df_bank_nodup['AccountID'].duplicated(keep=False)\n",
    "df_with_all_duplicate_account_ids = df_bank_nodup[all_duplicate_occurrences_mask]\n",
    "print(df_with_all_duplicate_account_ids.sort_values(by=['AccountID', 'CustomerID']))"
   ]
  },
  {
   "cell_type": "code",
   "execution_count": 34,
   "id": "577ff56d",
   "metadata": {},
   "outputs": [
    {
     "data": {
      "text/html": [
       "<div>\n",
       "<style scoped>\n",
       "    .dataframe tbody tr th:only-of-type {\n",
       "        vertical-align: middle;\n",
       "    }\n",
       "\n",
       "    .dataframe tbody tr th {\n",
       "        vertical-align: top;\n",
       "    }\n",
       "\n",
       "    .dataframe thead th {\n",
       "        text-align: right;\n",
       "    }\n",
       "</style>\n",
       "<table border=\"1\" class=\"dataframe\">\n",
       "  <thead>\n",
       "    <tr style=\"text-align: right;\">\n",
       "      <th></th>\n",
       "      <th>CustomerID</th>\n",
       "      <th>BirthDate</th>\n",
       "      <th>SSN</th>\n",
       "      <th>AccountID</th>\n",
       "      <th>AccountOpened</th>\n",
       "      <th>AccountType</th>\n",
       "    </tr>\n",
       "  </thead>\n",
       "  <tbody>\n",
       "    <tr>\n",
       "      <th>74</th>\n",
       "      <td>74.0</td>\n",
       "      <td>2023-01-19</td>\n",
       "      <td>086-36-1272</td>\n",
       "      <td>3.0</td>\n",
       "      <td>2093-12-24</td>\n",
       "      <td>cd</td>\n",
       "    </tr>\n",
       "    <tr>\n",
       "      <th>78</th>\n",
       "      <td>78.0</td>\n",
       "      <td>1973-08-10</td>\n",
       "      <td>020-16-6942</td>\n",
       "      <td>3.0</td>\n",
       "      <td>1990-01-24</td>\n",
       "      <td>savings</td>\n",
       "    </tr>\n",
       "    <tr>\n",
       "      <th>80</th>\n",
       "      <td>80.0</td>\n",
       "      <td>2006-04-28</td>\n",
       "      <td>763-71-6221</td>\n",
       "      <td>9.0</td>\n",
       "      <td>2029-03-10</td>\n",
       "      <td>savings</td>\n",
       "    </tr>\n",
       "    <tr>\n",
       "      <th>81</th>\n",
       "      <td>81.0</td>\n",
       "      <td>2023-12-26</td>\n",
       "      <td>299-00-8770</td>\n",
       "      <td>10.0</td>\n",
       "      <td>2029-12-29</td>\n",
       "      <td>savings</td>\n",
       "    </tr>\n",
       "    <tr>\n",
       "      <th>50</th>\n",
       "      <td>50.0</td>\n",
       "      <td>1973-12-02</td>\n",
       "      <td>066-09-7361</td>\n",
       "      <td>11.0</td>\n",
       "      <td>2033-01-08</td>\n",
       "      <td>savings</td>\n",
       "    </tr>\n",
       "    <tr>\n",
       "      <th>73</th>\n",
       "      <td>73.0</td>\n",
       "      <td>2006-10-11</td>\n",
       "      <td>226-86-6547</td>\n",
       "      <td>23.0</td>\n",
       "      <td>2032-07-17</td>\n",
       "      <td>cd</td>\n",
       "    </tr>\n",
       "    <tr>\n",
       "      <th>24</th>\n",
       "      <td>24.0</td>\n",
       "      <td>1996-04-30</td>\n",
       "      <td>041-33-6362</td>\n",
       "      <td>24.0</td>\n",
       "      <td>2050-05-22</td>\n",
       "      <td>cd</td>\n",
       "    </tr>\n",
       "    <tr>\n",
       "      <th>38</th>\n",
       "      <td>38.0</td>\n",
       "      <td>1977-12-05</td>\n",
       "      <td>509-93-1650</td>\n",
       "      <td>24.0</td>\n",
       "      <td>2039-11-09</td>\n",
       "      <td>cd</td>\n",
       "    </tr>\n",
       "    <tr>\n",
       "      <th>82</th>\n",
       "      <td>82.0</td>\n",
       "      <td>2002-02-20</td>\n",
       "      <td>085-93-3571</td>\n",
       "      <td>27.0</td>\n",
       "      <td>2014-12-14</td>\n",
       "      <td>savings</td>\n",
       "    </tr>\n",
       "    <tr>\n",
       "      <th>66</th>\n",
       "      <td>66.0</td>\n",
       "      <td>1959-10-01</td>\n",
       "      <td>929-11-8240</td>\n",
       "      <td>29.0</td>\n",
       "      <td>1962-08-06</td>\n",
       "      <td>cd</td>\n",
       "    </tr>\n",
       "    <tr>\n",
       "      <th>79</th>\n",
       "      <td>79.0</td>\n",
       "      <td>2014-09-16</td>\n",
       "      <td>628-96-2584</td>\n",
       "      <td>31.0</td>\n",
       "      <td>2067-03-24</td>\n",
       "      <td>savings</td>\n",
       "    </tr>\n",
       "    <tr>\n",
       "      <th>49</th>\n",
       "      <td>49.0</td>\n",
       "      <td>2007-10-28</td>\n",
       "      <td>494-36-1748</td>\n",
       "      <td>32.0</td>\n",
       "      <td>2069-08-14</td>\n",
       "      <td>checking</td>\n",
       "    </tr>\n",
       "    <tr>\n",
       "      <th>93</th>\n",
       "      <td>93.0</td>\n",
       "      <td>1964-05-18</td>\n",
       "      <td>596-66-1496</td>\n",
       "      <td>33.0</td>\n",
       "      <td>2023-01-01</td>\n",
       "      <td>checking</td>\n",
       "    </tr>\n",
       "    <tr>\n",
       "      <th>91</th>\n",
       "      <td>91.0</td>\n",
       "      <td>1997-10-16</td>\n",
       "      <td>627-23-0106</td>\n",
       "      <td>34.0</td>\n",
       "      <td>2027-10-14</td>\n",
       "      <td>checking</td>\n",
       "    </tr>\n",
       "    <tr>\n",
       "      <th>98</th>\n",
       "      <td>98.0</td>\n",
       "      <td>1975-08-17</td>\n",
       "      <td>846-64-7054</td>\n",
       "      <td>34.0</td>\n",
       "      <td>2032-12-25</td>\n",
       "      <td>savings</td>\n",
       "    </tr>\n",
       "    <tr>\n",
       "      <th>68</th>\n",
       "      <td>68.0</td>\n",
       "      <td>1984-09-15</td>\n",
       "      <td>169-24-7872</td>\n",
       "      <td>35.0</td>\n",
       "      <td>2052-06-10</td>\n",
       "      <td>checking</td>\n",
       "    </tr>\n",
       "    <tr>\n",
       "      <th>85</th>\n",
       "      <td>85.0</td>\n",
       "      <td>1994-08-16</td>\n",
       "      <td>911-34-2861</td>\n",
       "      <td>39.0</td>\n",
       "      <td>2047-12-05</td>\n",
       "      <td>savings</td>\n",
       "    </tr>\n",
       "    <tr>\n",
       "      <th>72</th>\n",
       "      <td>72.0</td>\n",
       "      <td>2008-07-03</td>\n",
       "      <td>371-57-0218</td>\n",
       "      <td>41.0</td>\n",
       "      <td>2023-01-17</td>\n",
       "      <td>savings</td>\n",
       "    </tr>\n",
       "    <tr>\n",
       "      <th>89</th>\n",
       "      <td>89.0</td>\n",
       "      <td>1985-10-06</td>\n",
       "      <td>627-48-7327</td>\n",
       "      <td>44.0</td>\n",
       "      <td>2061-04-05</td>\n",
       "      <td>checking</td>\n",
       "    </tr>\n",
       "    <tr>\n",
       "      <th>75</th>\n",
       "      <td>75.0</td>\n",
       "      <td>1990-01-18</td>\n",
       "      <td>708-41-3884</td>\n",
       "      <td>46.0</td>\n",
       "      <td>2024-01-24</td>\n",
       "      <td>savings</td>\n",
       "    </tr>\n",
       "    <tr>\n",
       "      <th>65</th>\n",
       "      <td>65.0</td>\n",
       "      <td>2004-10-10</td>\n",
       "      <td>632-10-8112</td>\n",
       "      <td>53.0</td>\n",
       "      <td>2071-12-12</td>\n",
       "      <td>checking</td>\n",
       "    </tr>\n",
       "    <tr>\n",
       "      <th>53</th>\n",
       "      <td>53.0</td>\n",
       "      <td>2001-02-18</td>\n",
       "      <td>716-06-9646</td>\n",
       "      <td>54.0</td>\n",
       "      <td>2063-01-25</td>\n",
       "      <td>checking</td>\n",
       "    </tr>\n",
       "    <tr>\n",
       "      <th>23</th>\n",
       "      <td>23.0</td>\n",
       "      <td>2021-12-11</td>\n",
       "      <td>939-09-9746</td>\n",
       "      <td>56.0</td>\n",
       "      <td>2071-09-01</td>\n",
       "      <td>cd</td>\n",
       "    </tr>\n",
       "    <tr>\n",
       "      <th>45</th>\n",
       "      <td>45.0</td>\n",
       "      <td>2015-04-10</td>\n",
       "      <td>931-24-3971</td>\n",
       "      <td>61.0</td>\n",
       "      <td>2078-11-23</td>\n",
       "      <td>savings</td>\n",
       "    </tr>\n",
       "    <tr>\n",
       "      <th>86</th>\n",
       "      <td>86.0</td>\n",
       "      <td>1983-11-16</td>\n",
       "      <td>787-21-6240</td>\n",
       "      <td>61.0</td>\n",
       "      <td>2044-05-16</td>\n",
       "      <td>savings</td>\n",
       "    </tr>\n",
       "    <tr>\n",
       "      <th>67</th>\n",
       "      <td>67.0</td>\n",
       "      <td>2019-05-11</td>\n",
       "      <td>392-50-0406</td>\n",
       "      <td>67.0</td>\n",
       "      <td>2036-06-20</td>\n",
       "      <td>savings</td>\n",
       "    </tr>\n",
       "    <tr>\n",
       "      <th>84</th>\n",
       "      <td>84.0</td>\n",
       "      <td>2002-12-14</td>\n",
       "      <td>165-25-5019</td>\n",
       "      <td>71.0</td>\n",
       "      <td>2073-04-12</td>\n",
       "      <td>cd</td>\n",
       "    </tr>\n",
       "    <tr>\n",
       "      <th>97</th>\n",
       "      <td>97.0</td>\n",
       "      <td>1960-09-23</td>\n",
       "      <td>773-33-2797</td>\n",
       "      <td>75.0</td>\n",
       "      <td>1993-09-16</td>\n",
       "      <td>cd</td>\n",
       "    </tr>\n",
       "    <tr>\n",
       "      <th>30</th>\n",
       "      <td>30.0</td>\n",
       "      <td>1963-04-14</td>\n",
       "      <td>168-31-0272</td>\n",
       "      <td>79.0</td>\n",
       "      <td>1970-04-19</td>\n",
       "      <td>savings</td>\n",
       "    </tr>\n",
       "    <tr>\n",
       "      <th>58</th>\n",
       "      <td>58.0</td>\n",
       "      <td>2011-10-04</td>\n",
       "      <td>770-07-1306</td>\n",
       "      <td>83.0</td>\n",
       "      <td>2050-11-27</td>\n",
       "      <td>cd</td>\n",
       "    </tr>\n",
       "    <tr>\n",
       "      <th>87</th>\n",
       "      <td>87.0</td>\n",
       "      <td>2001-01-08</td>\n",
       "      <td>026-22-8040</td>\n",
       "      <td>85.0</td>\n",
       "      <td>2015-05-15</td>\n",
       "      <td>savings</td>\n",
       "    </tr>\n",
       "    <tr>\n",
       "      <th>44</th>\n",
       "      <td>44.0</td>\n",
       "      <td>2018-06-12</td>\n",
       "      <td>275-51-1419</td>\n",
       "      <td>86.0</td>\n",
       "      <td>2095-12-10</td>\n",
       "      <td>checking</td>\n",
       "    </tr>\n",
       "    <tr>\n",
       "      <th>92</th>\n",
       "      <td>92.0</td>\n",
       "      <td>1989-03-21</td>\n",
       "      <td>310-31-9554</td>\n",
       "      <td>88.0</td>\n",
       "      <td>1991-03-23</td>\n",
       "      <td>savings</td>\n",
       "    </tr>\n",
       "  </tbody>\n",
       "</table>\n",
       "</div>"
      ],
      "text/plain": [
       "    CustomerID  BirthDate          SSN  AccountID AccountOpened AccountType\n",
       "74        74.0 2023-01-19  086-36-1272        3.0    2093-12-24          cd\n",
       "78        78.0 1973-08-10  020-16-6942        3.0    1990-01-24     savings\n",
       "80        80.0 2006-04-28  763-71-6221        9.0    2029-03-10     savings\n",
       "81        81.0 2023-12-26  299-00-8770       10.0    2029-12-29     savings\n",
       "50        50.0 1973-12-02  066-09-7361       11.0    2033-01-08     savings\n",
       "73        73.0 2006-10-11  226-86-6547       23.0    2032-07-17          cd\n",
       "24        24.0 1996-04-30  041-33-6362       24.0    2050-05-22          cd\n",
       "38        38.0 1977-12-05  509-93-1650       24.0    2039-11-09          cd\n",
       "82        82.0 2002-02-20  085-93-3571       27.0    2014-12-14     savings\n",
       "66        66.0 1959-10-01  929-11-8240       29.0    1962-08-06          cd\n",
       "79        79.0 2014-09-16  628-96-2584       31.0    2067-03-24     savings\n",
       "49        49.0 2007-10-28  494-36-1748       32.0    2069-08-14    checking\n",
       "93        93.0 1964-05-18  596-66-1496       33.0    2023-01-01    checking\n",
       "91        91.0 1997-10-16  627-23-0106       34.0    2027-10-14    checking\n",
       "98        98.0 1975-08-17  846-64-7054       34.0    2032-12-25     savings\n",
       "68        68.0 1984-09-15  169-24-7872       35.0    2052-06-10    checking\n",
       "85        85.0 1994-08-16  911-34-2861       39.0    2047-12-05     savings\n",
       "72        72.0 2008-07-03  371-57-0218       41.0    2023-01-17     savings\n",
       "89        89.0 1985-10-06  627-48-7327       44.0    2061-04-05    checking\n",
       "75        75.0 1990-01-18  708-41-3884       46.0    2024-01-24     savings\n",
       "65        65.0 2004-10-10  632-10-8112       53.0    2071-12-12    checking\n",
       "53        53.0 2001-02-18  716-06-9646       54.0    2063-01-25    checking\n",
       "23        23.0 2021-12-11  939-09-9746       56.0    2071-09-01          cd\n",
       "45        45.0 2015-04-10  931-24-3971       61.0    2078-11-23     savings\n",
       "86        86.0 1983-11-16  787-21-6240       61.0    2044-05-16     savings\n",
       "67        67.0 2019-05-11  392-50-0406       67.0    2036-06-20     savings\n",
       "84        84.0 2002-12-14  165-25-5019       71.0    2073-04-12          cd\n",
       "97        97.0 1960-09-23  773-33-2797       75.0    1993-09-16          cd\n",
       "30        30.0 1963-04-14  168-31-0272       79.0    1970-04-19     savings\n",
       "58        58.0 2011-10-04  770-07-1306       83.0    2050-11-27          cd\n",
       "87        87.0 2001-01-08  026-22-8040       85.0    2015-05-15     savings\n",
       "44        44.0 2018-06-12  275-51-1419       86.0    2095-12-10    checking\n",
       "92        92.0 1989-03-21  310-31-9554       88.0    1991-03-23     savings"
      ]
     },
     "execution_count": 34,
     "metadata": {},
     "output_type": "execute_result"
    }
   ],
   "source": [
    " df_bank_nodup[df_bank_nodup['AccountID'].duplicated()].sort_values(by=['AccountID','CustomerID'])"
   ]
  },
  {
   "cell_type": "code",
   "execution_count": 35,
   "id": "3e2f6b17",
   "metadata": {},
   "outputs": [
    {
     "name": "stdout",
     "output_type": "stream",
     "text": [
      "Duplicate AccountIDs exist in the DataFrame.\n"
     ]
    }
   ],
   "source": [
    "if df_bank_nodup['AccountID'].is_unique:\n",
    "    print(\"All AccountIDs are unique.\")\n",
    "else:\n",
    "    print(\"Duplicate AccountIDs exist in the DataFrame.\")"
   ]
  },
  {
   "cell_type": "markdown",
   "id": "ed68b682-fb52-4c2d-a172-5a76aa31395b",
   "metadata": {},
   "source": [
    "6. Count how many distinct AccountIDs there are."
   ]
  },
  {
   "cell_type": "markdown",
   "id": "754c31c5-e1d2-4387-bbe8-d156e731483a",
   "metadata": {},
   "source": [
    "Suggested Google search or ChatGPT prompt: \"how can I find out how many distinct items there are in a pandas Series using python\"\n",
    "\n",
    "This time Google provides me with a page that's specifically made to answer this question:\n",
    "\n",
    "https://www.geeksforgeeks.org/how-to-count-distinct-values-of-a-pandas-dataframe-column/"
   ]
  },
  {
   "cell_type": "code",
   "execution_count": 36,
   "id": "3a5c497f-acca-4bea-b693-9e628ce40c8f",
   "metadata": {},
   "outputs": [
    {
     "name": "stdout",
     "output_type": "stream",
     "text": [
      "Unique number of AccountID: 63\n"
     ]
    }
   ],
   "source": [
    "num_distinct_account_ids = len(pd.unique(df_bank_nodup['AccountID']))\n",
    "\n",
    "print(f\"Unique number of AccountID: {num_distinct_account_ids}\")"
   ]
  },
  {
   "cell_type": "markdown",
   "id": "85058f11-6222-4511-92f6-537be74c4807",
   "metadata": {},
   "source": [
    "7. Remove the duplicate AccountIDs so that each AccountID appears only once.\n",
    "\n",
    "This will involve using data.duplicated() but this time without keep = False.  We don't want to drop all duplicates; we want to leave one example of each value."
   ]
  },
  {
   "cell_type": "code",
   "execution_count": 37,
   "id": "d904a7ec-a21c-498b-bd1c-1b8415a48f2a",
   "metadata": {},
   "outputs": [
    {
     "name": "stdout",
     "output_type": "stream",
     "text": [
      "    CustomerID  BirthDate          SSN  AccountID AccountOpened AccountType\n",
      "3          3.0 2003-10-18  474-05-7613       86.0    2004-03-02          cd\n",
      "4          4.0 1985-12-06  750-55-5509       77.0    2059-05-05          cd\n",
      "5          5.0 2008-02-29  671-43-0485       75.0    2025-05-03    checking\n",
      "6          6.0 1975-04-05  288-62-9296       56.0    2048-09-21     savings\n",
      "7          7.0 2016-06-18  593-49-1249       16.0    2087-07-24     savings\n",
      "..         ...        ...          ...        ...           ...         ...\n",
      "88        88.0 1962-02-07  327-09-3267       97.0    1989-10-03          cd\n",
      "90        90.0 1969-06-18  395-31-7064       34.0    2010-12-28    checking\n",
      "94        94.0 1969-03-14  958-12-8308        5.0    2037-04-03     savings\n",
      "95        95.0 1975-09-23  607-97-1651       36.0    2011-07-24    checking\n",
      "96        96.0 1989-03-09  870-80-0364        0.0    2054-11-01          cd\n",
      "\n",
      "[63 rows x 6 columns]\n",
      "Original rows: 96\n",
      "Total duplicated rows: 33\n",
      "Rows after AccountID deduplication: 63\n"
     ]
    }
   ],
   "source": [
    "df_bank_nodup_unique_acc_id = df_bank_nodup.drop_duplicates(subset=['AccountID'], keep='first')\n",
    "\n",
    "print(df_bank_nodup_unique_acc_id)\n",
    "print(f\"Original rows: {len(df_bank_nodup)}\")\n",
    "print(f\"Total duplicated rows: {len(df_bank_nodup) - len(df_bank_nodup_unique_acc_id)}\")\n",
    "print(f\"Rows after AccountID deduplication: {len(df_bank_nodup_unique_acc_id)}\")\n"
   ]
  },
  {
   "cell_type": "markdown",
   "id": "a3b55f40-7b54-462c-82a5-05960d970365",
   "metadata": {},
   "source": [
    "8. What are the mean, median, and mode customer age in years?  (Rounding down to the next lower age.)\n",
    "Are there any outliers?  (Customers with very large or very small ages, compared with the other ages?)"
   ]
  },
  {
   "cell_type": "markdown",
   "id": "48b8cb00-e676-4b21-9211-06f26edf5a61",
   "metadata": {},
   "source": [
    "Suggested Google search or ChatGPT prompt: \"how can I find out the mean, median, and mode of a pandas Series\""
   ]
  },
  {
   "cell_type": "code",
   "execution_count": 38,
   "id": "a035d79b",
   "metadata": {},
   "outputs": [
    {
     "name": "stdout",
     "output_type": "stream",
     "text": [
      "Mean Age: 37\n",
      "Median Age: 34\n",
      "Mode Age: 0    33\n",
      "Name: Age, dtype: int32\n",
      "Min Age: 2\n",
      "Max Age: 73\n",
      "   BirthDate  Age\n",
      "3 2003-10-18   21\n",
      "4 1985-12-06   39\n",
      "5 2008-02-29   17\n",
      "6 1975-04-05   50\n",
      "7 2016-06-18    8\n"
     ]
    }
   ],
   "source": [
    "\n",
    "today = pd.to_datetime(datetime.today().strftime('%Y-%m-%d'))\n",
    "\n",
    "df_for_age_analysis = df_bank_nodup_unique_acc_id.copy()\n",
    "\n",
    "df_for_age_analysis['Age'] = ((today - df_for_age_analysis['BirthDate']).dt.days / 365.25).astype(int)\n",
    "\n",
    "mean_age = df_for_age_analysis['Age'].mean().astype(int)\n",
    "median_age = int(df_for_age_analysis['Age'].median())\n",
    "mode_age = df_for_age_analysis['Age'].mode()\n",
    "min_age = df_for_age_analysis['Age'].min()\n",
    "max_age = df_for_age_analysis['Age'].max()\n",
    "\n",
    "print(f\"Mean Age: {mean_age}\")\n",
    "print(f\"Median Age: {median_age}\")\n",
    "print(f\"Mode Age: {mode_age}\")\n",
    "print(f\"Min Age: {min_age}\")\n",
    "print(f\"Max Age: {max_age}\")\n",
    "print(df_for_age_analysis[['BirthDate', 'Age']].head())\n",
    "\n",
    "\n"
   ]
  },
  {
   "cell_type": "code",
   "execution_count": 49,
   "id": "a932efbd",
   "metadata": {},
   "outputs": [
    {
     "data": {
      "text/plain": [
       "<Axes: >"
      ]
     },
     "execution_count": 49,
     "metadata": {},
     "output_type": "execute_result"
    },
    {
     "data": {
      "image/png": "[encoded data removed]",
      "text/plain": [
       "<Figure size 640x480 with 1 Axes>"
      ]
     },
     "metadata": {},
     "output_type": "display_data"
    }
   ],
   "source": [
    "df_for_age_analysis['Age'].hist(bins=15)"
   ]
  },
  {
   "cell_type": "code",
   "execution_count": 40,
   "id": "db201a5b",
   "metadata": {},
   "outputs": [
    {
     "data": {
      "image/png": "[encoded data removed]",
      "text/plain": [
       "<Figure size 600x800 with 1 Axes>"
      ]
     },
     "metadata": {},
     "output_type": "display_data"
    }
   ],
   "source": [
    "import matplotlib.pyplot as plt # For title, labels, grid, and show()\n",
    "\n",
    "plt.figure(figsize=(6, 8))\n",
    "\n",
    "ax = df_for_age_analysis['Age'].plot(kind='box')\n",
    "\n",
    "ax.set_title('Distribution of Customer Ages', fontsize=16)\n",
    "ax.set_ylabel('Age (Years)', fontsize=12)\n",
    "ax.set_xticklabels(['']) # Removes the default '0' tick label on x-axis for a single box\n",
    "ax.yaxis.grid(True, linestyle='--', alpha=0.7)\n",
    "\n",
    "plt.axhline(median_age, color='green', linestyle='dashed', linewidth=1, label=f'Median: {median_age}')\n",
    "plt.axhline(mean_age, color='red', linestyle='dashed', linewidth=1, label=f'Mean: {mean_age}')\n",
    "ax.legend()\n",
    "\n",
    "plt.show()"
   ]
  },
  {
   "cell_type": "code",
   "execution_count": 41,
   "id": "347cb01f",
   "metadata": {},
   "outputs": [
    {
     "name": "stdout",
     "output_type": "stream",
     "text": [
      "\n",
      "No significant outliers found based on Z-score (threshold > 3).\n"
     ]
    }
   ],
   "source": [
    "from scipy import stats\n",
    "import numpy as np\n",
    "\n",
    "# Calculate the Z-score for the 'Age' column.\n",
    "# np.abs() is used to get the absolute Z-score, as outliers can be on both ends (too high or too low).\n",
    "df_for_age_analysis['Age_Zscore'] = np.abs(stats.zscore(df_for_age_analysis['Age']))\n",
    "\n",
    "# Set a Z-score threshold for identifying outliers (e.g., 3 is common).\n",
    "zscore_threshold = 3\n",
    "outliers_zscore = df_for_age_analysis[df_for_age_analysis['Age_Zscore'] > zscore_threshold]\n",
    "\n",
    "# Check if any outliers were found based on the Z-score.\n",
    "if not outliers_zscore.empty:\n",
    "    print(f\"\\nOutliers identified based on Z-score (threshold > {zscore_threshold}):\")\n",
    "    # Displaying 'BirthDate', 'Age', and the calculated 'Age_Zscore' for the identified outliers.\n",
    "    print(outliers_zscore[['BirthDate', 'Age', 'Age_Zscore']])\n",
    "else:\n",
    "    print(f\"\\nNo significant outliers found based on Z-score (threshold > {zscore_threshold}).\")"
   ]
  },
  {
   "cell_type": "markdown",
   "id": "b2cc3e88-aa16-4748-bf2d-b4c9672c7170",
   "metadata": {},
   "source": [
    "9. One-hot encode the AccountType column.  This means creating a new \"checking,\" \"savings\", and \"cd\" columns so that you can run machine learning algorithms."
   ]
  },
  {
   "cell_type": "code",
   "execution_count": 51,
   "id": "3ef9c041-9c44-4130-beec-c701ca1117a8",
   "metadata": {},
   "outputs": [
    {
     "data": {
      "text/html": [
       "<div>\n",
       "<style scoped>\n",
       "    .dataframe tbody tr th:only-of-type {\n",
       "        vertical-align: middle;\n",
       "    }\n",
       "\n",
       "    .dataframe tbody tr th {\n",
       "        vertical-align: top;\n",
       "    }\n",
       "\n",
       "    .dataframe thead th {\n",
       "        text-align: right;\n",
       "    }\n",
       "</style>\n",
       "<table border=\"1\" class=\"dataframe\">\n",
       "  <thead>\n",
       "    <tr style=\"text-align: right;\">\n",
       "      <th></th>\n",
       "      <th>CustomerID</th>\n",
       "      <th>BirthDate</th>\n",
       "      <th>SSN</th>\n",
       "      <th>AccountID</th>\n",
       "      <th>AccountOpened</th>\n",
       "      <th>AccountType</th>\n",
       "      <th>Age</th>\n",
       "      <th>Age_Zscore</th>\n",
       "      <th>cd</th>\n",
       "      <th>checking</th>\n",
       "      <th>savings</th>\n",
       "    </tr>\n",
       "  </thead>\n",
       "  <tbody>\n",
       "    <tr>\n",
       "      <th>3</th>\n",
       "      <td>3.0</td>\n",
       "      <td>2003-10-18</td>\n",
       "      <td>474-05-7613</td>\n",
       "      <td>86.0</td>\n",
       "      <td>2004-03-02</td>\n",
       "      <td>cd</td>\n",
       "      <td>21</td>\n",
       "      <td>0.814500</td>\n",
       "      <td>True</td>\n",
       "      <td>False</td>\n",
       "      <td>False</td>\n",
       "    </tr>\n",
       "    <tr>\n",
       "      <th>4</th>\n",
       "      <td>4.0</td>\n",
       "      <td>1985-12-06</td>\n",
       "      <td>750-55-5509</td>\n",
       "      <td>77.0</td>\n",
       "      <td>2059-05-05</td>\n",
       "      <td>cd</td>\n",
       "      <td>39</td>\n",
       "      <td>0.100904</td>\n",
       "      <td>True</td>\n",
       "      <td>False</td>\n",
       "      <td>False</td>\n",
       "    </tr>\n",
       "    <tr>\n",
       "      <th>5</th>\n",
       "      <td>5.0</td>\n",
       "      <td>2008-02-29</td>\n",
       "      <td>671-43-0485</td>\n",
       "      <td>75.0</td>\n",
       "      <td>2025-05-03</td>\n",
       "      <td>checking</td>\n",
       "      <td>17</td>\n",
       "      <td>1.017924</td>\n",
       "      <td>False</td>\n",
       "      <td>True</td>\n",
       "      <td>False</td>\n",
       "    </tr>\n",
       "    <tr>\n",
       "      <th>6</th>\n",
       "      <td>6.0</td>\n",
       "      <td>1975-04-05</td>\n",
       "      <td>288-62-9296</td>\n",
       "      <td>56.0</td>\n",
       "      <td>2048-09-21</td>\n",
       "      <td>savings</td>\n",
       "      <td>50</td>\n",
       "      <td>0.660318</td>\n",
       "      <td>False</td>\n",
       "      <td>False</td>\n",
       "      <td>True</td>\n",
       "    </tr>\n",
       "    <tr>\n",
       "      <th>7</th>\n",
       "      <td>7.0</td>\n",
       "      <td>2016-06-18</td>\n",
       "      <td>593-49-1249</td>\n",
       "      <td>16.0</td>\n",
       "      <td>2087-07-24</td>\n",
       "      <td>savings</td>\n",
       "      <td>8</td>\n",
       "      <td>1.475626</td>\n",
       "      <td>False</td>\n",
       "      <td>False</td>\n",
       "      <td>True</td>\n",
       "    </tr>\n",
       "  </tbody>\n",
       "</table>\n",
       "</div>"
      ],
      "text/plain": [
       "   CustomerID  BirthDate          SSN  AccountID AccountOpened AccountType  \\\n",
       "3         3.0 2003-10-18  474-05-7613       86.0    2004-03-02          cd   \n",
       "4         4.0 1985-12-06  750-55-5509       77.0    2059-05-05          cd   \n",
       "5         5.0 2008-02-29  671-43-0485       75.0    2025-05-03    checking   \n",
       "6         6.0 1975-04-05  288-62-9296       56.0    2048-09-21     savings   \n",
       "7         7.0 2016-06-18  593-49-1249       16.0    2087-07-24     savings   \n",
       "\n",
       "   Age  Age_Zscore     cd  checking  savings  \n",
       "3   21    0.814500   True     False    False  \n",
       "4   39    0.100904   True     False    False  \n",
       "5   17    1.017924  False      True    False  \n",
       "6   50    0.660318  False     False     True  \n",
       "7    8    1.475626  False     False     True  "
      ]
     },
     "execution_count": 51,
     "metadata": {},
     "output_type": "execute_result"
    }
   ],
   "source": [
    "one_hot = pd.get_dummies(df_for_age_analysis[\"AccountType\"])\n",
    "df2 = df_for_age_analysis.join(one_hot)\n",
    "df2.iloc[0:5]"
   ]
  },
  {
   "cell_type": "markdown",
   "id": "55874415-e923-4179-86ea-502458cbcd7e",
   "metadata": {},
   "source": [
    "Now, change the cd, checking, and savings columns into integers."
   ]
  },
  {
   "cell_type": "code",
   "execution_count": 54,
   "id": "edda21a5-bb8c-4824-b320-1416dd807fc0",
   "metadata": {},
   "outputs": [
    {
     "name": "stdout",
     "output_type": "stream",
     "text": [
      "Column 'cd' in df2 converted to integer type.\n",
      "Column 'checking' in df2 converted to integer type.\n",
      "Column 'savings' in df2 converted to integer type.\n",
      "<class 'pandas.core.frame.DataFrame'>\n",
      "Index: 63 entries, 3 to 96\n",
      "Data columns (total 11 columns):\n",
      " #   Column         Non-Null Count  Dtype         \n",
      "---  ------         --------------  -----         \n",
      " 0   CustomerID     63 non-null     float64       \n",
      " 1   BirthDate      63 non-null     datetime64[ns]\n",
      " 2   SSN            63 non-null     object        \n",
      " 3   AccountID      63 non-null     float64       \n",
      " 4   AccountOpened  63 non-null     datetime64[ns]\n",
      " 5   AccountType    63 non-null     object        \n",
      " 6   Age            63 non-null     int32         \n",
      " 7   Age_Zscore     63 non-null     float64       \n",
      " 8   cd             63 non-null     int32         \n",
      " 9   checking       63 non-null     int32         \n",
      " 10  savings        63 non-null     int32         \n",
      "dtypes: datetime64[ns](2), float64(3), int32(4), object(2)\n",
      "memory usage: 7.0+ KB\n"
     ]
    },
    {
     "data": {
      "text/html": [
       "<div>\n",
       "<style scoped>\n",
       "    .dataframe tbody tr th:only-of-type {\n",
       "        vertical-align: middle;\n",
       "    }\n",
       "\n",
       "    .dataframe tbody tr th {\n",
       "        vertical-align: top;\n",
       "    }\n",
       "\n",
       "    .dataframe thead th {\n",
       "        text-align: right;\n",
       "    }\n",
       "</style>\n",
       "<table border=\"1\" class=\"dataframe\">\n",
       "  <thead>\n",
       "    <tr style=\"text-align: right;\">\n",
       "      <th></th>\n",
       "      <th>CustomerID</th>\n",
       "      <th>BirthDate</th>\n",
       "      <th>SSN</th>\n",
       "      <th>AccountID</th>\n",
       "      <th>AccountOpened</th>\n",
       "      <th>AccountType</th>\n",
       "      <th>Age</th>\n",
       "      <th>Age_Zscore</th>\n",
       "      <th>cd</th>\n",
       "      <th>checking</th>\n",
       "      <th>savings</th>\n",
       "    </tr>\n",
       "  </thead>\n",
       "  <tbody>\n",
       "    <tr>\n",
       "      <th>3</th>\n",
       "      <td>3.0</td>\n",
       "      <td>2003-10-18</td>\n",
       "      <td>474-05-7613</td>\n",
       "      <td>86.0</td>\n",
       "      <td>2004-03-02</td>\n",
       "      <td>cd</td>\n",
       "      <td>21</td>\n",
       "      <td>0.814500</td>\n",
       "      <td>1</td>\n",
       "      <td>0</td>\n",
       "      <td>0</td>\n",
       "    </tr>\n",
       "    <tr>\n",
       "      <th>4</th>\n",
       "      <td>4.0</td>\n",
       "      <td>1985-12-06</td>\n",
       "      <td>750-55-5509</td>\n",
       "      <td>77.0</td>\n",
       "      <td>2059-05-05</td>\n",
       "      <td>cd</td>\n",
       "      <td>39</td>\n",
       "      <td>0.100904</td>\n",
       "      <td>1</td>\n",
       "      <td>0</td>\n",
       "      <td>0</td>\n",
       "    </tr>\n",
       "    <tr>\n",
       "      <th>5</th>\n",
       "      <td>5.0</td>\n",
       "      <td>2008-02-29</td>\n",
       "      <td>671-43-0485</td>\n",
       "      <td>75.0</td>\n",
       "      <td>2025-05-03</td>\n",
       "      <td>checking</td>\n",
       "      <td>17</td>\n",
       "      <td>1.017924</td>\n",
       "      <td>0</td>\n",
       "      <td>1</td>\n",
       "      <td>0</td>\n",
       "    </tr>\n",
       "    <tr>\n",
       "      <th>6</th>\n",
       "      <td>6.0</td>\n",
       "      <td>1975-04-05</td>\n",
       "      <td>288-62-9296</td>\n",
       "      <td>56.0</td>\n",
       "      <td>2048-09-21</td>\n",
       "      <td>savings</td>\n",
       "      <td>50</td>\n",
       "      <td>0.660318</td>\n",
       "      <td>0</td>\n",
       "      <td>0</td>\n",
       "      <td>1</td>\n",
       "    </tr>\n",
       "    <tr>\n",
       "      <th>7</th>\n",
       "      <td>7.0</td>\n",
       "      <td>2016-06-18</td>\n",
       "      <td>593-49-1249</td>\n",
       "      <td>16.0</td>\n",
       "      <td>2087-07-24</td>\n",
       "      <td>savings</td>\n",
       "      <td>8</td>\n",
       "      <td>1.475626</td>\n",
       "      <td>0</td>\n",
       "      <td>0</td>\n",
       "      <td>1</td>\n",
       "    </tr>\n",
       "  </tbody>\n",
       "</table>\n",
       "</div>"
      ],
      "text/plain": [
       "   CustomerID  BirthDate          SSN  AccountID AccountOpened AccountType  \\\n",
       "3         3.0 2003-10-18  474-05-7613       86.0    2004-03-02          cd   \n",
       "4         4.0 1985-12-06  750-55-5509       77.0    2059-05-05          cd   \n",
       "5         5.0 2008-02-29  671-43-0485       75.0    2025-05-03    checking   \n",
       "6         6.0 1975-04-05  288-62-9296       56.0    2048-09-21     savings   \n",
       "7         7.0 2016-06-18  593-49-1249       16.0    2087-07-24     savings   \n",
       "\n",
       "   Age  Age_Zscore  cd  checking  savings  \n",
       "3   21    0.814500   1         0        0  \n",
       "4   39    0.100904   1         0        0  \n",
       "5   17    1.017924   0         1        0  \n",
       "6   50    0.660318   0         0        1  \n",
       "7    8    1.475626   0         0        1  "
      ]
     },
     "execution_count": 54,
     "metadata": {},
     "output_type": "execute_result"
    }
   ],
   "source": [
    "one_hot_column_names = one_hot.columns.tolist()\n",
    "\n",
    "for col_name in one_hot_column_names:\n",
    "    if col_name in df2.columns:\n",
    "        df2[col_name] = df2[col_name].astype(int)\n",
    "        #Check processing\n",
    "        print(f\"Column '{col_name}' in df2 converted to integer type.\")\n",
    "    else:\n",
    "        print(f\"Warning: Column '{col_name}' not found in df2.\")\n",
    "\n",
    "# Check datatype\n",
    "df2.info()\n",
    "\n",
    "# Check DF output\n",
    "df2.head()"
   ]
  },
  {
   "cell_type": "markdown",
   "id": "5e884d3e-1d76-42a2-9b2e-86471286aa51",
   "metadata": {},
   "source": [
    "10. Are there any other data values that do not seem right?  If not, give an example?"
   ]
  },
  {
   "cell_type": "markdown",
   "id": "5c08a456-ae6d-4c79-8ca6-41f28d5cff20",
   "metadata": {},
   "source": [
    "I don't think Google or ChatGPT alone will help you here.  To answer the question, look at the columns and think about what relationships they should have with each other.  For example, it seems reasonable to expect that BirthDate would be no earlier than 120 years ago (it's unlikely that a customer would be this old.)  Now we can ask Google:\n",
    "\n",
    "\"How can I find out how long ago a pandas date is\"\n",
    "\n",
    "Google provides this helpful link, although it is not exactly the solution - you'll have to work with it a bit:\n",
    "\n",
    "https://stackoverflow.com/questions/26072087/pandas-number-of-days-elapsed-since-a-certain-date\n",
    "\n",
    "If you check, I think you'll find that all dates are more recent than 120 years ago.  What about the AccountOpened columns?  I see some obviously wrong dates there just by looking at the first few rows.\n",
    "\n",
    "Along those same lines, are there any birth dates that are too recent?  Do we think that any two year olds will have opened bank accounts?  How common do you think this is in real life?  How common is it in our data set?  Can you detect the two year olds opening bank accounts using just one column, or do you need two columns?"
   ]
  },
  {
   "cell_type": "markdown",
   "id": "ea6ef5e0",
   "metadata": {},
   "source": [
    "**1. Checking Uniqueness of CustomerID:**\n",
    "\n",
    "While the `CustomerID` in this generated dataset was initially created to be unique (before a specific data manipulation step that might have introduced a NaN, later removed), it's crucial to verify its uniqueness in any real-world dataset. In practical scenarios, `CustomerID` might not always be unique due to various reasons like data entry errors, system integration issues, or even by design depending on the table's normalization form (NF) and purpose.\n",
    "\n",
    "The necessity to enforce absolute uniqueness for `CustomerID` in the final cleaned dataset often depends on the specific analytical goal. For some analyses, ensuring each customer is represented by a single, unique ID is paramount. For others, repeated `CustomerID`s (perhaps linked to different transactions or events) might be acceptable or even required. Therefore, the cleaning process can be adapted to either strictly enforce uniqueness or handle duplicates according to the analytical objective.\n",
    "\n",
    "For this exercise, we will proceed to check the uniqueness of `CustomerID` in our current DataFrame."
   ]
  },
  {
   "cell_type": "code",
   "execution_count": 44,
   "id": "87ea60d8",
   "metadata": {},
   "outputs": [
    {
     "name": "stdout",
     "output_type": "stream",
     "text": [
      "Result: All CustomerIDs in the current DataFrame are unique.\n",
      "Total number of unique CustomerIDs: 63\n",
      "Total number of rows in DataFrame: 63\n",
      "\n",
      "Data type of CustomerID column: float64\n"
     ]
    }
   ],
   "source": [
    "# Check if all CustomerIDs are unique using the .is_unique attribute\n",
    "customer_ids_are_unique = df_for_age_analysis['CustomerID'].is_unique\n",
    "\n",
    "if customer_ids_are_unique:\n",
    "    print(\"Result: All CustomerIDs in the current DataFrame are unique.\")\n",
    "    print(f\"Total number of unique CustomerIDs: {df_for_age_analysis['CustomerID'].nunique()}\")\n",
    "    print(f\"Total number of rows in DataFrame: {len(df_for_age_analysis)}\")\n",
    "else:\n",
    "    print(\"Result: Warning - Duplicate CustomerIDs were found in the DataFrame.\")\n",
    "    \n",
    "    # Create a boolean mask for rows with duplicate CustomerIDs (all occurrences)\n",
    "    duplicate_customer_id_mask = df_for_age_analysis['CustomerID'].duplicated(keep=False)\n",
    "    # Filter the DataFrame to get only the rows with duplicate CustomerIDs\n",
    "    df_rows_with_duplicate_customer_ids = df_for_age_analysis[duplicate_customer_id_mask]\n",
    "    \n",
    "    print(\"\\nDetails of rows with duplicate CustomerIDs:\")\n",
    "    # Sort by CustomerID to group them for easier inspection\n",
    "    print(df_rows_with_duplicate_customer_ids.sort_values(by='CustomerID'))\n",
    "    \n",
    "    print(f\"\\nSummary:\")\n",
    "    print(f\"Total number of rows in DataFrame: {len(df_for_age_analysis)}\")\n",
    "    print(f\"Number of unique CustomerIDs: {df_for_age_analysis['CustomerID'].nunique()}\")\n",
    "    print(f\"Number of rows involved in CustomerID duplication: {len(df_rows_with_duplicate_customer_ids)}\")\n",
    "\n",
    "# Display the data type of the CustomerID column\n",
    "print(f\"\\nData type of CustomerID column: {df_for_age_analysis['CustomerID'].dtype}\")"
   ]
  },
  {
   "cell_type": "markdown",
   "id": "464cd66c",
   "metadata": {},
   "source": [
    "**10.2. Analyzing Logical Consistency of AccountOpening Dates:**\n",
    "\n",
    "Next, we examine the `AccountOpened` dates for logical inconsistencies in relation to `BirthDate` and the current date. Specifically, we look for:\n",
    "* Accounts opened *before* the customer's birth date.\n",
    "* Accounts opened on a date that is in the *future* (i.e., after today's date).\n",
    "\n",
    "These conditions would typically indicate errors in data entry or data generation."
   ]
  },
  {
   "cell_type": "code",
   "execution_count": 45,
   "id": "ef77f9c7",
   "metadata": {},
   "outputs": [
    {
     "name": "stdout",
     "output_type": "stream",
     "text": [
      "--- 10.2 Analyzing Logical Consistency of AccountOpened Dates ---\n",
      "\n",
      "Result for Check 1 (Opened before Birth): No accounts found that were opened before the customer's birth date. This is logically correct.\n",
      "\n",
      "Result for Check 2 (Opened in Future, relative to 2025-05-15): WARNING - Found 35 account(s) with AccountOpened dates in the FUTURE:\n",
      "    CustomerID  BirthDate AccountOpened  Age\n",
      "4          4.0 1985-12-06    2059-05-05   39\n",
      "6          6.0 1975-04-05    2048-09-21   50\n",
      "7          7.0 2016-06-18    2087-07-24    8\n",
      "8          8.0 2006-10-31    2046-11-17   18\n",
      "9          9.0 2010-12-10    2048-06-01   14\n",
      "11        11.0 1990-11-22    2036-03-17   34\n",
      "15        15.0 2004-05-09    2031-01-21   21\n",
      "16        16.0 1990-02-10    2047-01-25   35\n",
      "17        17.0 1996-10-15    2063-08-28   28\n",
      "18        18.0 2001-12-22    2070-08-26   23\n",
      "21        21.0 2016-02-16    2077-03-09    9\n",
      "26        26.0 1968-12-13    2028-07-28   56\n",
      "31        31.0 1971-07-27    2033-06-08   53\n",
      "32        32.0 2000-06-17    2070-03-26   24\n",
      "35        35.0 1956-11-01    2031-10-28   68\n",
      "36        36.0 1991-07-31    2028-11-27   33\n",
      "37        37.0 2017-07-23    2094-12-17    7\n",
      "41        41.0 1996-08-30    2073-11-13   28\n",
      "42        42.0 1958-10-25    2036-04-28   66\n",
      "43        43.0 1991-09-29    2068-07-28   33\n",
      "48        48.0 2002-05-17    2027-02-27   22\n",
      "52        52.0 1996-10-24    2032-09-02   28\n",
      "54        54.0 2017-09-13    2066-06-21    7\n",
      "55        55.0 1982-02-05    2061-02-23   43\n",
      "57        57.0 1998-03-01    2049-12-28   27\n",
      "59        59.0 2019-06-26    2065-03-29    5\n",
      "60        60.0 1978-05-22    2033-02-18   46\n",
      "61        61.0 2023-03-31    2068-01-17    2\n",
      "62        62.0 2022-08-23    2090-07-02    2\n",
      "63        63.0 2014-08-18    2077-12-30   10\n",
      "69        69.0 1999-05-09    2068-04-18   26\n",
      "77        77.0 1991-05-21    2067-05-03   33\n",
      "83        83.0 1976-10-12    2039-09-15   48\n",
      "94        94.0 1969-03-14    2037-04-03   56\n",
      "96        96.0 1989-03-09    2054-11-01   36\n",
      "\n",
      "Overall Conclusion for 10.2: 35 account(s) have future opening dates (likely due to data generation). \n",
      "No accounts were opened before birth. This indicates unrealistic data points for 'AccountOpened'.\n"
     ]
    }
   ],
   "source": [
    "from datetime import datetime\n",
    "import pandas as pd\n",
    "\n",
    "# Assuming df_for_age_analysis is the DataFrame from the previous relevant step,\n",
    "# and 'BirthDate' & 'AccountOpened' are already datetime objects.\n",
    "\n",
    "print(\"--- 10.2 Analyzing Logical Consistency of AccountOpened Dates ---\")\n",
    "\n",
    "# --- Check 1: Accounts opened BEFORE birth date ---\n",
    "opened_before_birth = df_for_age_analysis[df_for_age_analysis['AccountOpened'] < df_for_age_analysis['BirthDate']]\n",
    "count_opened_before_birth = len(opened_before_birth) # Count of problematic rows\n",
    "\n",
    "if count_opened_before_birth > 0: # If issues are found\n",
    "    print(f\"\\nResult for Check 1 (Opened before Birth): WARNING - Found {count_opened_before_birth} account(s) opened BEFORE the customer's birth date:\")\n",
    "    print(opened_before_birth[['CustomerID', 'BirthDate', 'AccountOpened', 'Age']])\n",
    "else: # If no such problematic rows are found\n",
    "    print(\"\\nResult for Check 1 (Opened before Birth): No accounts found that were opened before the customer's birth date. This is logically correct.\")\n",
    "\n",
    "# --- Check 2: Accounts opened in the FUTURE ---\n",
    "today_date = pd.to_datetime(datetime.today().strftime('%Y-%m-%d')) # Current date: May 14, 2025\n",
    "opened_in_future = df_for_age_analysis[df_for_age_analysis['AccountOpened'] > today_date]\n",
    "count_opened_in_future = len(opened_in_future) # Count of problematic rows\n",
    "\n",
    "if count_opened_in_future > 0: # If issues are found\n",
    "    print(f\"\\nResult for Check 2 (Opened in Future, relative to {today_date.strftime('%Y-%m-%d')}): WARNING - Found {count_opened_in_future} account(s) with AccountOpened dates in the FUTURE:\")\n",
    "    print(opened_in_future[['CustomerID', 'BirthDate', 'AccountOpened', 'Age']])\n",
    "else: # If no such problematic rows are found\n",
    "    print(f\"\\nResult for Check 2 (Opened in Future, relative to {today_date.strftime('%Y-%m-%d')}): No accounts found with AccountOpened dates in the future. This is logically correct.\")\n",
    "\n",
    "# --- Summary of findings for point 10.2 ---\n",
    "if count_opened_before_birth == 0 and count_opened_in_future == 0:\n",
    "    print(\"\\nOverall Conclusion for 10.2: AccountOpened dates appear logically consistent regarding birth dates and the current reference date.\")\n",
    "elif count_opened_before_birth == 0 and count_opened_in_future > 0:\n",
    "    print(f\"\\nOverall Conclusion for 10.2: {count_opened_in_future} account(s) have future opening dates (likely due to data generation). \\nNo accounts were opened before birth. This indicates unrealistic data points for 'AccountOpened'.\")\n",
    "elif count_opened_before_birth > 0 and count_opened_in_future == 0:\n",
    "    print(f\"\\nOverall Conclusion for 10.2: {count_opened_before_birth} account(s) were opened before the customer's birth date. No accounts have future opening dates. These should be investigated.\")\n",
    "else: # If both issues are found\n",
    "    print(f\"\\nOverall Conclusion for 10.2: Logical issues found with AccountOpened dates: {count_opened_before_birth} account(s) opened before birth and {count_opened_in_future} account(s) with future opening dates. These should be investigated.\")"
   ]
  },
  {
   "cell_type": "markdown",
   "id": "1941ce32",
   "metadata": {},
   "source": [
    "**10.3. Verifying Uniqueness of SSN and Its Relation to CustomerID:**\n",
    "\n",
    "Next, we'll check the \"SSN\" (Social Security Number) column. For data integrity, SSNs should ideally be unique to each individual. We will verify:\n",
    "1.  If all SSN values in the DataFrame are unique.\n",
    "2.  The question \"Are there no duplicates with other CustomerIDs?\" is interpreted as checking if any single SSN is associated with more than one `CustomerID`. In a clean dataset, one SSN should map to only one `CustomerID`. The direct comparison of SSN values with CustomerID values is not meaningful due to different formats and purposes."
   ]
  },
  {
   "cell_type": "code",
   "execution_count": 46,
   "id": "c9030c29",
   "metadata": {},
   "outputs": [
    {
     "name": "stdout",
     "output_type": "stream",
     "text": [
      "\n",
      "Result for SSN Uniqueness: All SSNs in the DataFrame are unique.\n",
      "Total number of unique SSNs: 63\n",
      "Total number of rows (and SSNs): 63\n",
      "\n",
      "Result for SSN to CustomerID Mapping: Each SSN is associated with at most one unique CustomerID.\n",
      "\n",
      "Data type of SSN column: object\n"
     ]
    }
   ],
   "source": [
    "# --- Check 1: Are all SSNs in the DataFrame unique? ---\n",
    "are_ssns_unique = df_for_age_analysis['SSN'].is_unique\n",
    "num_unique_ssns = df_for_age_analysis['SSN'].nunique()\n",
    "total_ssns_entries = len(df_for_age_analysis['SSN']) # Number of rows with SSN entries\n",
    "\n",
    "if are_ssns_unique:\n",
    "    print(\"\\nResult for SSN Uniqueness: All SSNs in the DataFrame are unique.\")\n",
    "    print(f\"Total number of unique SSNs: {num_unique_ssns}\")\n",
    "    print(f\"Total number of rows (and SSNs): {total_ssns_entries}\")\n",
    "    # For all SSNs to be unique, num_unique_ssns should equal total_ssns_entries\n",
    "else:\n",
    "    print(\"\\nResult for SSN Uniqueness: WARNING - Duplicate SSNs were found in the DataFrame.\")\n",
    "    \n",
    "    # Identify and display rows with duplicate SSNs (all occurrences)\n",
    "    duplicate_ssn_mask = df_for_age_analysis['SSN'].duplicated(keep=False)\n",
    "    df_rows_with_duplicate_ssns = df_for_age_analysis[duplicate_ssn_mask]\n",
    "    \n",
    "    print(\"\\nDetails of rows with duplicate SSNs:\")\n",
    "    # Display relevant columns, sorted by SSN to group duplicates\n",
    "    print(df_rows_with_duplicate_ssns.sort_values(by='SSN')[['CustomerID', 'SSN', 'BirthDate']])\n",
    "    \n",
    "    print(f\"\\nSummary:\")\n",
    "    print(f\"Total number of rows (and SSNs): {total_ssns_entries}\")\n",
    "    print(f\"Number of unique SSNs: {num_unique_ssns}\") # Will be less than total_ssns_entries\n",
    "    print(f\"Number of rows involved in SSN duplication: {len(df_rows_with_duplicate_ssns)}\")\n",
    "\n",
    "# --- Check 2: Does any single SSN map to more than one CustomerID? ---\n",
    "# This check is most relevant if SSNs were not globally unique from Check 1.\n",
    "# If all SSNs are unique (from Check 1), then each SSN will inherently map to only one CustomerID\n",
    "# (assuming each row represents a unique instance or that CustomerIDs themselves are unique per row).\n",
    "\n",
    "# Group by SSN and count the number of unique CustomerIDs for each SSN.\n",
    "ssn_to_customer_counts = df_for_age_analysis.groupby('SSN')['CustomerID'].nunique()\n",
    "\n",
    "# Find SSNs that are associated with more than one unique CustomerID.\n",
    "ssns_linked_to_multiple_customers = ssn_to_customer_counts[ssn_to_customer_counts > 1]\n",
    "\n",
    "if ssns_linked_to_multiple_customers.empty:\n",
    "    print(\"\\nResult for SSN to CustomerID Mapping: Each SSN is associated with at most one unique CustomerID.\")\n",
    "    if not are_ssns_unique: # If SSNs were not unique but still map 1-to-1 CustomerID (unlikely for SSN context)\n",
    "        print(\"   (Note: This implies that if duplicate SSNs exist, they belong to the same CustomerID, which needs further investigation for SSN data integrity.)\")\n",
    "else:\n",
    "    print(\"\\nResult for SSN to CustomerID Mapping: WARNING - Found SSNs associated with multiple different CustomerIDs:\")\n",
    "    print(ssns_linked_to_multiple_customers)\n",
    "    # To see the actual rows involved:\n",
    "    # print(\"\\nRows where SSNs are associated with multiple CustomerIDs:\")\n",
    "    # problematic_ssns = ssns_linked_to_multiple_customers.index\n",
    "    # print(df_for_age_analysis[df_for_age_analysis['SSN'].isin(problematic_ssns)].sort_values(by=['SSN', 'CustomerID'])[['CustomerID', 'SSN']])\n",
    "\n",
    "# Display the data type of the SSN column\n",
    "print(f\"\\nData type of SSN column: {df_for_age_analysis['SSN'].dtype}\")"
   ]
  },
  {
   "cell_type": "markdown",
   "id": "06d67900",
   "metadata": {},
   "source": [
    "**10.4. Data Model: Uniqueness of CustomerID and AccountType Combination**\n",
    "\n",
    "In this generated dataset, each row is intended to represent a unique account instance for a customer, with a specific `AccountType`. After previous cleaning steps (like ensuring unique `AccountID` per row in Question 7), we should also examine how `CustomerID` and `AccountType` combine.\n",
    "\n",
    "In a real-world banking system, a single customer (identified by `CustomerID`) can hold multiple accounts, and these can be of different types (e.g., one customer having both a \"checking\" and a \"savings\" account, each with its own `AccountID`). If our current dataset were to reflect such a scenario with multiple distinct accounts for one customer, we would expect to see the same `CustomerID` appearing on multiple rows, but with different `AccountID`s and potentially different `AccountType`s.\n",
    "\n",
    "We will now check if the combination of `CustomerID` and `AccountType` is unique for each row in our `df_for_age_analysis` DataFrame.\n",
    "* If every (`CustomerID`, `AccountType`) pair is unique, it suggests that, within this dataset's current structure, each customer is represented with at most one account of any given type.\n",
    "* If there are duplicate (`CustomerID`, `AccountType`) pairs, it would imply that the same customer is listed multiple times with the exact same account type, which (given that `AccountID` was already made unique in Q7) would be an unexpected data redundancy for this specific combination of fields."
   ]
  },
  {
   "cell_type": "code",
   "execution_count": 60,
   "id": "1ed817f7",
   "metadata": {},
   "outputs": [
    {
     "name": "stdout",
     "output_type": "stream",
     "text": [
      "--- 10.4 Checking Uniqueness of (CustomerID, AccountType) Combination ---\n",
      "\n",
      "Result: Each combination of CustomerID and AccountType is unique in the DataFrame.\n",
      "This suggests that, in this dataset, each customer is not listed multiple times with the exact same account type.\n",
      "\n",
      "Total number of rows in df_for_age_analysis: 63\n",
      "Number of unique CustomerIDs: 63\n",
      "Number of unique AccountIDs if we group by (CustomerID, AccountType): 63\n",
      "\n",
      "Note: This check helps understand the current data structure. A real-world scenario where a customer holds\n",
      "multiple distinct account types (e.g., one checking, one savings) would ideally have those as distinct rows\n",
      "with different AccountIDs, and thus different (CustomerID, AccountType, AccountID) combinations.\n"
     ]
    }
   ],
   "source": [
    "# Check for duplicate rows based on the combination of 'CustomerID' and 'AccountType'.\n",
    "# .duplicated(subset=..., keep=False) will mark all occurrences of such duplicates as True.\n",
    "duplicate_pairs_mask = df_for_age_analysis.duplicated(subset=['CustomerID', 'AccountType'], keep=False)\n",
    "\n",
    "if duplicate_pairs_mask.any():\n",
    "    print(\"\\nResult: Warning - Duplicate combinations of (CustomerID, AccountType) were found.\")\n",
    "    \n",
    "    # Filter the DataFrame to get only the rows with these duplicate pairs\n",
    "    df_duplicate_pairs = df_for_age_analysis[duplicate_pairs_mask]\n",
    "    \n",
    "    print(\"\\nRows with duplicate (CustomerID, AccountType) pairs:\")\n",
    "    # Sort by CustomerID and then AccountType to group them for easier inspection\n",
    "    # Showing AccountID as well, for context.\n",
    "    print(df_duplicate_pairs.sort_values(by=['CustomerID', 'AccountType'])[['CustomerID', 'AccountType', 'AccountID', 'cd', 'checking', 'savings']])\n",
    "    \n",
    "    num_total_rows = len(df_for_age_analysis)\n",
    "    num_unique_pairs = len(df_for_age_analysis.drop_duplicates(subset=['CustomerID', 'AccountType']))\n",
    "    print(f\"\\nSummary:\")\n",
    "    print(f\"Total number of rows in DataFrame: {num_total_rows}\")\n",
    "    print(f\"Number of unique (CustomerID, AccountType) pairs: {num_unique_pairs}\")\n",
    "    print(f\"Number of rows involved in (CustomerID, AccountType) duplication: {len(df_duplicate_pairs)}\")\n",
    "else:\n",
    "    print(\"\\nResult: Each combination of CustomerID and AccountType is unique in the DataFrame.\")\n",
    "    print(\"This suggests that, in this dataset, each customer is not listed multiple times with the exact same account type.\")\n",
    "    # Example to show the structure:\n",
    "    # print(\"\\nExample of CustomerID and their (single) AccountType entries:\")\n",
    "    # print(df_for_age_analysis[['CustomerID', 'AccountType']].head())\n",
    "\n",
    "print(f\"\\nTotal number of rows in df_for_age_analysis: {len(df_for_age_analysis)}\")\n",
    "print(f\"Number of unique CustomerIDs: {df_for_age_analysis['CustomerID'].nunique()}\")\n",
    "print(f\"Number of unique AccountIDs if we group by (CustomerID, AccountType): {len(df_for_age_analysis.drop_duplicates(subset=['CustomerID', 'AccountType']))}\")\n",
    "\n",
    "\n",
    "print(\"\\nNote: This check helps understand the current data structure. A real-world scenario where a customer holds\")\n",
    "print(\"multiple distinct account types (e.g., one checking, one savings) would ideally have those as distinct rows\")\n",
    "print(\"with different AccountIDs, and thus different (CustomerID, AccountType, AccountID) combinations.\")"
   ]
  },
  {
   "cell_type": "markdown",
   "id": "d9afbb95",
   "metadata": {},
   "source": [
    "**10.5. Reviewing BirthDate Range and Corresponding Ages:**\n",
    "\n",
    "The `BirthDate` column was checked for any future dates relative to the execution date of [Today Date, Ex.: 2025-05-15], and none were found, which is consistent with the data generation process (birth dates up to Jan 1, 2024).\n",
    "\n",
    "* The customer with the **earliest birth date** in the dataset is born on **1952-01-26**, and their current age is **73 years**.\n",
    "* The customer with the **latest birth date** (most recent) is born on **2023-03-31**, and their current age is **2 years**. This customer's `AccountOpened` date was previously noted as being in the distant future (e.g., 2068), which is a significant data anomaly related to the `AccountOpened` generation.\n",
    "\n",
    "The overall age range of customers in this cleaned dataset spans from 2 years to 73 years. While these ages are plausible, the banking activities associated with a 2-year-old would typically involve a guardian."
   ]
  },
  {
   "cell_type": "code",
   "execution_count": 69,
   "id": "de546294",
   "metadata": {},
   "outputs": [
    {
     "name": "stdout",
     "output_type": "stream",
     "text": [
      "\n",
      "Result for Future BirthDates: No birth dates found in the future (relative to 2025-05-15). All birth dates are in the past or today.\n",
      "This aligns with the data generation logic, where birth dates were created up to January 1, 2024.\n",
      "\n",
      "Customer(s) with the earliest BirthDate (1952-01-26):\n",
      "    CustomerID  BirthDate          SSN  AccountID AccountOpened AccountType  \\\n",
      "39        39.0 1952-01-26  810-29-3625       67.0    1983-11-04    checking   \n",
      "\n",
      "    Age  Age_Zscore  \n",
      "39   73    1.830002  \n",
      "\n",
      "Customer(s) with the latest BirthDate (2023-03-31):\n",
      "    CustomerID  BirthDate          SSN  AccountID AccountOpened AccountType  \\\n",
      "61        61.0 2023-03-31  040-18-6728       53.0    2068-01-17     savings   \n",
      "\n",
      "    Age  Age_Zscore  \n",
      "61    2    1.780761  \n",
      "\n",
      "Overall youngest customer age in the dataset: 2 years\n",
      "Overall oldest customer age in the dataset:   73 years\n"
     ]
    }
   ],
   "source": [
    "# Define today's date (stripping time component)\n",
    "today_date = pd.to_datetime(datetime.today().strftime('%Y-%m-%d')) # Current date: May 15, 2025\n",
    "\n",
    "# Check for birth dates that are in the future\n",
    "future_birth_dates = df_for_age_analysis[df_for_age_analysis['BirthDate'] > today_date]\n",
    "count_future_birth_dates = len(future_birth_dates)\n",
    "\n",
    "if count_future_birth_dates > 0:\n",
    "    print(f\"\\nResult for Future BirthDates: WARNING - Found {count_future_birth_dates} customer(s) with BirthDate in the FUTURE (relative to {today_date.strftime('%Y-%m-%d')}):\")\n",
    "    print(future_birth_dates) # Display full rows for these records\n",
    "else:\n",
    "    print(f\"\\nResult for Future BirthDates: No birth dates found in the future (relative to {today_date.strftime('%Y-%m-%d')}). All birth dates are in the past or today.\")\n",
    "    print(\"This aligns with the data generation logic, where birth dates were created up to January 1, 2024.\")\n",
    "\n",
    "# Display customer(s) with the earliest (minimum) BirthDate\n",
    "if not df_for_age_analysis.empty and 'BirthDate' in df_for_age_analysis.columns:\n",
    "    min_birth_date_value = df_for_age_analysis['BirthDate'].min()\n",
    "    customers_earliest_birthdate = df_for_age_analysis[df_for_age_analysis['BirthDate'] == min_birth_date_value]\n",
    "    print(f\"\\nCustomer(s) with the earliest BirthDate ({min_birth_date_value.strftime('%Y-%m-%d')}):\")\n",
    "    print(customers_earliest_birthdate) # Display full row(s)\n",
    "\n",
    "    # Display customer(s) with the latest (maximum) BirthDate\n",
    "    max_birth_date_value = df_for_age_analysis['BirthDate'].max()\n",
    "    customers_latest_birthdate = df_for_age_analysis[df_for_age_analysis['BirthDate'] == max_birth_date_value]\n",
    "    print(f\"\\nCustomer(s) with the latest BirthDate ({max_birth_date_value.strftime('%Y-%m-%d')}):\")\n",
    "    print(customers_latest_birthdate) # Display full row(s)\n",
    "    \n",
    "    # Also, print the overall min and max age for context (as before)\n",
    "    min_age_overall = df_for_age_analysis['Age'].min()\n",
    "    max_age_overall = df_for_age_analysis['Age'].max()\n",
    "    print(f\"\\nOverall youngest customer age in the dataset: {min_age_overall} years\")\n",
    "    print(f\"Overall oldest customer age in the dataset:   {max_age_overall} years\")\n",
    "\n",
    "else:\n",
    "    print(\"\\nCould not retrieve BirthDate or Age data (DataFrame or relevant columns might be empty/missing).\")\n"
   ]
  },
  {
   "cell_type": "markdown",
   "id": "63be984a-21d0-43e7-8a55-fb8a67b8a351",
   "metadata": {},
   "source": [
    "11. Use Matplotlib and/or Seaborn to analyse the ages at which customers open their account.  Is there a connection between the year they are born vs. the age at which they open the account?  Graph this in whatever way you think is best."
   ]
  },
  {
   "cell_type": "markdown",
   "id": "84574af6-9f3a-481a-843a-877388973ef2",
   "metadata": {},
   "source": [
    "I asked Google and ChatGPT: \"How can I plot dates vs. dates in Matplotlib\".  This gave me a hard time at first - I had to tell ChatGPT it was giving me the wrong information because it tried to plot dates vs. numbers.  Eventually, I found out that you plot dates vs. dates in the same way you'd plot numbers vs. numbers.\n",
    "\n",
    "Think in terms of Storytelling With Data to plot these as best you can.  Once you've seen the result, try to think of the best way to plot the data so as to show the user what you want them to see.  Title the graph so as to display the lesson that you want the user to take away.\n",
    "Here are some options for the axes:\n",
    "\n",
    "1. A scatter or line plot: On the x-axis, the date they are born.  On the y-axis, the date they open the account.\n",
    "2. A scatter or line plot: On the x-axis, the date they are born.  On the y-axis, the age in years at which they open the account.\n",
    "3. A scatter or line plot: On the x-axis, they year (integer) they are born.  On the y-axis, the age in years at which they open the account.\n",
    "4. A histogram: on the x-axis, the age at which they open the account.\n",
    "\n",
    "Here is an example:"
   ]
  },
  {
   "cell_type": "code",
   "execution_count": 77,
   "id": "453acced-f7b1-4bb5-943d-716ae0505ace",
   "metadata": {},
   "outputs": [
    {
     "data": {
      "text/plain": [
       "Text(0.5, 0, 'Birth Date')"
      ]
     },
     "execution_count": 77,
     "metadata": {},
     "output_type": "execute_result"
    },
    {
     "data": {
      "image/png": "[encoded data removed]",
      "text/plain": [
       "<Figure size 640x480 with 1 Axes>"
      ]
     },
     "metadata": {},
     "output_type": "display_data"
    }
   ],
   "source": [
    "import matplotlib.pyplot as plt\n",
    "\n",
    "ax = plt.gca() # get an \"Axes\" object to draw on; gca stands for \"get current Axes\"\n",
    "ax.scatter(df2[\"BirthDate\"], df2[\"AccountOpened\"]) # create a scatter plot based on these two dates\n",
    "ax.set_ylabel(\"Account Opened\") # label the y axis\n",
    "ax.set_xlabel(\"Birth Date\") # label the x axis"
   ]
  },
  {
   "cell_type": "code",
   "execution_count": 70,
   "id": "157c5950",
   "metadata": {},
   "outputs": [],
   "source": [
    "import seaborn as sns"
   ]
  },
  {
   "cell_type": "code",
   "execution_count": 73,
   "id": "6f76fd1e",
   "metadata": {},
   "outputs": [
    {
     "data": {
      "image/png": "[encoded data removed]",
      "text/plain": [
       "<Figure size 700x450 with 1 Axes>"
      ]
     },
     "metadata": {},
     "output_type": "display_data"
    }
   ],
   "source": [
    "df = df_for_age_analysis\n",
    "\n",
    "plt.figure(figsize=(7, 4.5))\n",
    "plt.scatter(df[\"BirthDate\"], df[\"AgeAtAccountOpening\"])\n",
    "plt.xlabel(\"Birth Date\")\n",
    "plt.ylabel(\"Age at Account Opening (Years)\")\n",
    "plt.title(\"Birth Date vs. Age at Account Opening\")\n",
    "plt.xticks(rotation=20, ha='right')\n",
    "plt.tight_layout()\n",
    "plt.show()"
   ]
  },
  {
   "cell_type": "code",
   "execution_count": 74,
   "id": "3dbc9502",
   "metadata": {},
   "outputs": [
    {
     "data": {
      "image/png": "[encoded data removed]",
      "text/plain": [
       "<Figure size 700x450 with 1 Axes>"
      ]
     },
     "metadata": {},
     "output_type": "display_data"
    }
   ],
   "source": [
    "plt.figure(figsize=(7, 4.5))\n",
    "plt.scatter(df[\"BirthYear\"], df[\"AgeAtAccountOpening\"])\n",
    "plt.xlabel(\"Birth Year\")\n",
    "plt.ylabel(\"Age at Account Opening (Years)\")\n",
    "plt.title(\"Birth Year vs. Age at Account Opening\")\n",
    "plt.tight_layout()\n",
    "plt.show()"
   ]
  },
  {
   "cell_type": "code",
   "execution_count": 76,
   "id": "e09ddb69",
   "metadata": {},
   "outputs": [
    {
     "data": {
      "image/png": "[encoded data removed]",
      "text/plain": [
       "<Figure size 700x450 with 1 Axes>"
      ]
     },
     "metadata": {},
     "output_type": "display_data"
    }
   ],
   "source": [
    "plt.figure(figsize=(7, 4.5))\n",
    "plt.hist(df[\"AgeAtAccountOpening\"], bins=15) \n",
    "plt.xlabel(\"Age at Account Opening (Years)\")\n",
    "plt.ylabel(\"Number of Customers (Frequency)\")\n",
    "plt.title(\"Distribution of Age at Account Opening\")\n",
    "plt.tight_layout()\n",
    "plt.show()"
   ]
  },
  {
   "cell_type": "code",
   "execution_count": 78,
   "id": "b13066e0",
   "metadata": {},
   "outputs": [
    {
     "name": "stdout",
     "output_type": "stream",
     "text": [
      "'AgeGroup' column created for plotting.\n",
      "\n",
      "--- Analyzing AccountType Distribution Across Age Groups (Simple Seaborn Countplot) ---\n"
     ]
    },
    {
     "data": {
      "image/png": "[encoded data removed]",
      "text/plain": [
       "<Figure size 1000x600 with 1 Axes>"
      ]
     },
     "metadata": {},
     "output_type": "display_data"
    }
   ],
   "source": [
    "# 1. Ensure AgeGroup column is present (as before)\n",
    "if 'AgeGroup' not in df_for_age_analysis.columns:\n",
    "    age_bins = [0, 19, 29, 39, 49, 59, 69, np.inf]\n",
    "    age_labels = ['0-19', '20-29', '30-39', '40-49', '50-59', '60-69', '70+']\n",
    "    df_for_age_analysis['AgeGroup'] = pd.cut(df_for_age_analysis['Age'], bins=age_bins, labels=age_labels, right=True)\n",
    "    print(\"'AgeGroup' column created for plotting.\")\n",
    "# else:\n",
    "#     print(\"'AgeGroup' column already exists.\") # This print can be optional\n",
    "\n",
    "print(\"\\n--- Analyzing AccountType Distribution Across Age Groups (Simple Seaborn Countplot) ---\")\n",
    "\n",
    "# 2. Create a Grouped Bar Chart using Seaborn's countplot\n",
    "plt.figure(figsize=(10, 6)) # Adjusted for a more standard size\n",
    "sns.countplot(\n",
    "    data=df_for_age_analysis,\n",
    "    x='AgeGroup',\n",
    "    hue='AccountType',\n",
    "    edgecolor='black' # Added edgecolor for clarity\n",
    "    # palette='viridis' # You can choose a palette or let Seaborn pick\n",
    ")\n",
    "\n",
    "plt.title('Account Type Distribution by Customer Age Group') # Simplified title\n",
    "plt.xlabel('Age Group')\n",
    "plt.ylabel('Number of Customers')\n",
    "plt.xticks(rotation=30, ha='right') # Keep rotation for readability\n",
    "plt.legend(title='Account Type')\n",
    "# plt.grid(axis='y', linestyle='--', alpha=0.7) # Grid is optional, can remove for more minimalism\n",
    "plt.tight_layout()\n",
    "plt.show()"
   ]
  },
  {
   "cell_type": "markdown",
   "id": "012a4fe5",
   "metadata": {},
   "source": [
    "**Conclusion for Question 11 (incorporating further thoughts):**\n",
    "\n",
    "Within this specific generated dataset, the visualizations (primarily scatter plots 11.2 and 11.3) suggest **no strong, obvious linear correlation between a customer's birth year and their age at account opening.** The observed wide dispersion of \"Age at Account Opening\" appears to be largely a function of the random data generation process for `AccountOpened` dates. This process included adding a random period (0 to ~80 years) to the `BirthDate`, and also resulted in some unrealistic future `AccountOpened` dates, which further complicates the interpretation of a direct age-cohort trend for account opening.\n",
    "\n",
    "The histogram (11.4) of \"Age at Account Opening\" also shows a broad distribution, reflecting that people in this dataset opened accounts at various life stages, which in itself can be realistic. As discussed, life events can trigger account openings at many different ages.\n",
    "\n",
    "**Further Considerations for Real-World Data & Business Strategy:**\n",
    "\n",
    "While this generated dataset has limitations for deeper behavioral analysis, it's important to note the potential insights from a real-world dataset. For instance, **analyzing `AccountType` preferences across different age groups** would be a valuable exercise. Understanding if younger customers prefer \"checking\" accounts for daily transactions, while older customers might lean towards \"savings\" or \"CDs\" for different financial goals, can directly inform:\n",
    "\n",
    "* **Product Development:** Tailoring financial products to the needs of specific age demographics.\n",
    "* **Marketing Strategies:** Targeting the right products to the right age groups through appropriate channels.\n",
    "* **Customer Lifecycle Management:** Offering relevant services as customers' financial needs evolve with age.\n",
    "\n",
    "This generated dataset, due to the random assignment of `AccountType`, does not allow for such an analysis. However, it highlights an important dimension of customer understanding that would be a key focus in a real business context. The current dataset primarily served to practice data cleaning and basic visualization techniques."
   ]
  },
  {
   "cell_type": "markdown",
   "id": "f5d2ca82-ea81-46e5-9002-8321987d08d9",
   "metadata": {},
   "source": [
    "# 4. Storytelling With Data graph"
   ]
  },
  {
   "cell_type": "markdown",
   "id": "b00e6940-4a0c-4b3e-93dd-460239bf9940",
   "metadata": {},
   "source": [
    "Choose any graph in the Introduction of Storytelling With Data.  Using matplotlib to reproduce it in a rough way.  I don't expect you to spend an enormous amount of time on this; I understand that you likely will not have time to re-create every feature of the graph.  However, if you're excited about learning to use matplotlib, this is a good way to do that.  You don't have to duplicate the exact values on the graph; just the same rough shape will be enough.  If you don't feel comfortable using matplotlib yet, do the best you can and write down what you tried or what Google searches you did to find the answers."
   ]
  },
  {
   "cell_type": "code",
   "execution_count": 96,
   "id": "c023ff6f-f3c8-4df7-a7a6-191e70bcb362",
   "metadata": {},
   "outputs": [
    {
     "data": {
      "image/png": "[encoded data removed]",
      "text/plain": [
       "<Figure size 1000x600 with 1 Axes>"
      ]
     },
     "metadata": {},
     "output_type": "display_data"
    }
   ],
   "source": [
    "# 1. Create pseudo-data similar to the graph's pattern\n",
    "months = ['Jan', 'Feb', 'Mar', 'Apr', 'May', 'Jun', 'Jul', 'Aug', 'Sep', 'Oct', 'Nov', 'Dec']\n",
    "# Approximate values from the graph for \"Received\"\n",
    "received_tickets = np.array([160, 184, 241, 149, 180, 161, 123, 202, 156, 139, 149, 177])\n",
    "# Approximate values for \"Processed\", trying to match the story\n",
    "processed_tickets = np.array([160, 184, 237, 148, 179, 132, 123, 156, 126, 104, 124, 140])\n",
    "# Add a slight offset to x-values for text annotation to avoid overlap with points\n",
    "x_values = np.arange(len(months))\n",
    "\n",
    "# 2. Create the plot\n",
    "plt.figure(figsize=(10, 6)) # Adjust figure size as needed\n",
    "\n",
    "# Plotting the lines\n",
    "plt.plot(x_values, received_tickets, marker='o', color='grey', linewidth=2, label='Received_raw') # Raw label for now\n",
    "plt.plot(x_values, processed_tickets, marker='o', color='steelblue', linewidth=2, label='Processed_raw') # Raw label for now\n",
    "\n",
    "# 3. Setting up axes and ticks\n",
    "plt.xticks(x_values, months)\n",
    "plt.yticks(np.arange(0, 301, 50))\n",
    "plt.ylim(0, 300)\n",
    "plt.ylabel(\"Number of tickets\")\n",
    "# No explicit x-axis label in the original \"after\" graph, but good to have a year context\n",
    "plt.xlabel(\"2014\") # The original graph implies the year 2014\n",
    "\n",
    "# 4. Adding titles and annotations\n",
    "plt.suptitle(\"Please approve the hire of 2 FTEs\", fontsize=14, y=0.98, ha='center', fontweight='bold') # Main request\n",
    "plt.title(\"Ticket volume over time\", fontsize=10, loc='left') # Sub-title for the graph itself\n",
    "\n",
    "# Vertical line and annotation for May\n",
    "may_index = months.index('May')\n",
    "plt.axvline(x=may_index, ymin= 0, ymax= 0.6, color='grey', linestyle='-', linewidth=0.8)\n",
    "annotation_text = \"2 employees quit in May. We nearly kept up with incoming volume \\nin the following two months. but fell behind with the increase in Aug \\nand haven't been able to catch up since.\" # Abbreviated\n",
    "# Position the text - this will require trial and error\n",
    "plt.text(may_index -1, 240, annotation_text, fontsize=9, va='center', \n",
    "         bbox=dict(facecolor='white', edgecolor='none', alpha=0)) # Bbox for readability if needed\n",
    "\n",
    "# 5. Adding data point values (selectively, as in the original)\n",
    "# Example for a few points from the graph:\n",
    "points_to_label_received = {'Aug': 202, 'Nov': 149, 'Dec': 177}\n",
    "points_to_label_processed = {'Aug': 156, 'Sep': 126, 'Oct': 104, 'Dec': 140, 'Apr': 149, 'Mar': 241} # Some key points\n",
    "\n",
    "for month, val in points_to_label_received.items():\n",
    "    idx = months.index(month)\n",
    "    plt.text(x_values[idx] + 0.1, received_tickets[idx] + 5, str(val), fontsize=9, color='grey')\n",
    "\n",
    "for month, val in points_to_label_processed.items():\n",
    "    idx = months.index(month)\n",
    "    plt.text(x_values[idx] + 0.1, processed_tickets[idx] + 5, str(val), fontsize=9, color='steelblue')\n",
    "\n",
    "\n",
    "# 6. Custom legend (text next to lines)\n",
    "# Position text at the end of the lines\n",
    "plt.text(x_values[-1] + 0.2, received_tickets[-1], 'Received', color='grey', fontsize=12, va='center')\n",
    "plt.text(x_values[-1] + 0.2, processed_tickets[-1], 'Processed', color='steelblue', fontsize=12, va='center', fontweight='bold')\n",
    "\n",
    "# 7. Styling - removing unnecessary spines\n",
    "ax = plt.gca()\n",
    "ax.spines['top'].set_visible(False)\n",
    "ax.spines['right'].set_visible(False)\n",
    "\n",
    "plt.tight_layout(rect=[0, 0.05, 1, 0.95])\n",
    "plt.show()"
   ]
  }
 ],
 "metadata": {
  "kernelspec": {
   "display_name": "Python 3 (ipykernel)",
   "language": "python",
   "name": "python3"
  },
  "language_info": {
   "codemirror_mode": {
    "name": "ipython",
    "version": 3
   },
   "file_extension": ".py",
   "mimetype": "text/x-python",
   "name": "python",
   "nbconvert_exporter": "python",
   "pygments_lexer": "ipython3",
   "version": "3.11.7"
  }
 },
 "nbformat": 4,
 "nbformat_minor": 5
}
